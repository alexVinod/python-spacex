{
 "cells": [
  {
   "cell_type": "code",
   "execution_count": 1,
   "metadata": {},
   "outputs": [],
   "source": [
    "import pandas as pd\n",
    "import numpy as np\n",
    "from pandas.testing import assert_frame_equal"
   ]
  },
  {
   "cell_type": "code",
   "execution_count": 13,
   "metadata": {},
   "outputs": [],
   "source": [
    "students1 = pd.read_csv('./students1.csv')\n",
    "students2 = pd.read_csv('./students2.csv')\n",
    "# for remove duplicates use students1.drop_duplicates()"
   ]
  },
  {
   "cell_type": "code",
   "execution_count": 14,
   "metadata": {},
   "outputs": [
    {
     "data": {
      "text/html": [
       "<div>\n",
       "<style scoped>\n",
       "    .dataframe tbody tr th:only-of-type {\n",
       "        vertical-align: middle;\n",
       "    }\n",
       "\n",
       "    .dataframe tbody tr th {\n",
       "        vertical-align: top;\n",
       "    }\n",
       "\n",
       "    .dataframe thead th {\n",
       "        text-align: right;\n",
       "    }\n",
       "</style>\n",
       "<table border=\"1\" class=\"dataframe\">\n",
       "  <thead>\n",
       "    <tr style=\"text-align: right;\">\n",
       "      <th></th>\n",
       "      <th>id</th>\n",
       "      <th>name</th>\n",
       "      <th>dob</th>\n",
       "      <th>department</th>\n",
       "      <th>mobile</th>\n",
       "      <th>created_on</th>\n",
       "    </tr>\n",
       "  </thead>\n",
       "  <tbody>\n",
       "    <tr>\n",
       "      <th>0</th>\n",
       "      <td>1</td>\n",
       "      <td>Harish</td>\n",
       "      <td>9/21/1993</td>\n",
       "      <td>CSE</td>\n",
       "      <td>1000000000</td>\n",
       "      <td>36:15.8</td>\n",
       "    </tr>\n",
       "    <tr>\n",
       "      <th>1</th>\n",
       "      <td>2</td>\n",
       "      <td>Vinod</td>\n",
       "      <td>6/18/1993</td>\n",
       "      <td>CSE</td>\n",
       "      <td>9701550994</td>\n",
       "      <td>37:51.8</td>\n",
       "    </tr>\n",
       "    <tr>\n",
       "      <th>2</th>\n",
       "      <td>3</td>\n",
       "      <td>Vinod P</td>\n",
       "      <td>6/18/1993</td>\n",
       "      <td>CSE</td>\n",
       "      <td>9701550994</td>\n",
       "      <td>37:51.8</td>\n",
       "    </tr>\n",
       "    <tr>\n",
       "      <th>3</th>\n",
       "      <td>4</td>\n",
       "      <td>Shiva</td>\n",
       "      <td>6/18/1993</td>\n",
       "      <td>ECE</td>\n",
       "      <td>9701550994</td>\n",
       "      <td>36:15.8</td>\n",
       "    </tr>\n",
       "    <tr>\n",
       "      <th>4</th>\n",
       "      <td>5</td>\n",
       "      <td>Govinda</td>\n",
       "      <td>6/18/1999</td>\n",
       "      <td>CIVIL</td>\n",
       "      <td>9701550910</td>\n",
       "      <td>37:51.8</td>\n",
       "    </tr>\n",
       "  </tbody>\n",
       "</table>\n",
       "</div>"
      ],
      "text/plain": [
       "   id     name        dob department      mobile created_on\n",
       "0   1   Harish  9/21/1993        CSE  1000000000    36:15.8\n",
       "1   2    Vinod  6/18/1993        CSE  9701550994    37:51.8\n",
       "2   3  Vinod P  6/18/1993        CSE  9701550994    37:51.8\n",
       "3   4    Shiva  6/18/1993        ECE  9701550994    36:15.8\n",
       "4   5  Govinda  6/18/1999      CIVIL  9701550910    37:51.8"
      ]
     },
     "execution_count": 14,
     "metadata": {},
     "output_type": "execute_result"
    }
   ],
   "source": [
    "students1\n",
    "students2"
   ]
  },
  {
   "cell_type": "code",
   "execution_count": 73,
   "metadata": {},
   "outputs": [
    {
     "name": "stdout",
     "output_type": "stream",
     "text": [
      "NOT FOUND\n"
     ]
    },
    {
     "data": {
      "text/plain": [
       "'Vinod'"
      ]
     },
     "execution_count": 73,
     "metadata": {},
     "output_type": "execute_result"
    }
   ],
   "source": [
    "students1\n",
    "\n",
    "# test[test['accounttype'].str.contains(\"|\".join(a))]\n",
    "#if students1[\"name\"].str.contains(\"Narayana\", na=\"False\").any():\n",
    "\n",
    "# if students1[\"name\"].str.startswith(\"Narayana\", na=\"False\").any():\n",
    "#     k= students1[\"name\"].str.startswith(\"Narayana\", na=\"False\").any()\n",
    "#     print(k.shape[0])\n",
    "#     print(students1[students1[\"name\"].str.contains(\"|\".join(a))][\"name\"])\n",
    "# else:\n",
    "#     print(\"NOT Found\")\n",
    "\n",
    "\n",
    "a=[\"abc\"]\n",
    "# data = students1[students1[\"name\"].str.contains(\"|\".join(a))][\"name\"].any()\n",
    "\n",
    "\n",
    "\n",
    "if students1[students1[\"name\"].str.contains(\"|\".join(a))][\"name\"].any():\n",
    "    print(students1[students1[\"name\"].str.contains(\"|\".join(a))][\"name\"].item())\n",
    "else:\n",
    "    print(\"NOT FOUND\")\n",
    "\n",
    "students1[students1[\"name\"].str.contains(\"|\".join([\"vinod\"]), case=False)][\"name\"].any()\n",
    "\n"
   ]
  },
  {
   "cell_type": "code",
   "execution_count": null,
   "metadata": {},
   "outputs": [],
   "source": []
  },
  {
   "cell_type": "code",
   "execution_count": null,
   "metadata": {},
   "outputs": [],
   "source": []
  },
  {
   "cell_type": "code",
   "execution_count": null,
   "metadata": {},
   "outputs": [],
   "source": []
  },
  {
   "cell_type": "code",
   "execution_count": null,
   "metadata": {},
   "outputs": [],
   "source": []
  },
  {
   "cell_type": "code",
   "execution_count": null,
   "metadata": {},
   "outputs": [],
   "source": []
  },
  {
   "cell_type": "code",
   "execution_count": 4,
   "metadata": {},
   "outputs": [
    {
     "name": "stdout",
     "output_type": "stream",
     "text": [
      "   id_x     name      dob_x department_x    mobile_x created_on_x  id_y  \\\n",
      "0     1   Harish  9/21/1993          CSE  9000620000      36:15.8     1   \n",
      "1     2    Vinod  6/18/1993          CSE  9701550994      37:51.8     2   \n",
      "2     3  Vinod P  6/18/1993          CSE  9701550994      37:51.8     3   \n",
      "3     7    Shiva  6/18/1993         MECH  9701550994      36:15.8     4   \n",
      "4    10  Govinda  6/18/1999        CIVIL  9701550910      37:51.8     5   \n",
      "\n",
      "       dob_y department_y    mobile_y created_on_y  \n",
      "0  9/21/1993          CSE  1000000000      36:15.8  \n",
      "1  6/18/1993          CSE  9701550994      37:51.8  \n",
      "2  6/18/1993          CSE  9701550994      37:51.8  \n",
      "3  6/18/1993          ECE  9701550994      36:15.8  \n",
      "4  6/18/1999        CIVIL  9701550910      37:51.8  \n"
     ]
    }
   ],
   "source": [
    "print (pd.merge(students1,students2, on='name'))"
   ]
  },
  {
   "cell_type": "code",
   "execution_count": 5,
   "metadata": {},
   "outputs": [
    {
     "name": "stdout",
     "output_type": "stream",
     "text": [
      "   id_x     name      dob_x department_x    mobile_x created_on_x  id_y  \\\n",
      "0     1   Harish  9/21/1993          CSE  9000620000      36:15.8     1   \n",
      "1     2    Vinod  6/18/1993          CSE  9701550994      37:51.8     2   \n",
      "2     3  Vinod P  6/18/1993          CSE  9701550994      37:51.8     3   \n",
      "3     7    Shiva  6/18/1993         MECH  9701550994      36:15.8     4   \n",
      "4    10  Govinda  6/18/1999        CIVIL  9701550910      37:51.8     5   \n",
      "\n",
      "       dob_y department_y    mobile_y created_on_y  \n",
      "0  9/21/1993          CSE  1000000000      36:15.8  \n",
      "1  6/18/1993          CSE  9701550994      37:51.8  \n",
      "2  6/18/1993          CSE  9701550994      37:51.8  \n",
      "3  6/18/1993          ECE  9701550994      36:15.8  \n",
      "4  6/18/1999        CIVIL  9701550910      37:51.8  \n",
      "   id_x      name      dob_x department_x    mobile_x created_on_x  id_y  \\\n",
      "0     1    Harish  9/21/1993          CSE  9000620000      36:15.8   1.0   \n",
      "1     2     Vinod  6/18/1993          CSE  9701550994      37:51.8   2.0   \n",
      "2     3   Vinod P  6/18/1993          CSE  9701550994      37:51.8   3.0   \n",
      "3     4   Krishna  6/18/1994          ECE  9701556995      36:15.8   NaN   \n",
      "4     6   Krishna  6/18/1996        CIVIL  9201520994      37:51.8   NaN   \n",
      "5     5      Rama  6/18/1995          ECE  8601550996      37:51.8   NaN   \n",
      "6     7     Shiva  6/18/1993         MECH  9701550994      36:15.8   4.0   \n",
      "7     8     Nandi  6/18/1997          ECE  9401550994      37:51.8   NaN   \n",
      "8     9  Narayana  6/18/1998         MECH  9701550894      37:51.8   NaN   \n",
      "9    10   Govinda  6/18/1999        CIVIL  9701550910      37:51.8   5.0   \n",
      "\n",
      "       dob_y department_y      mobile_y created_on_y  \n",
      "0  9/21/1993          CSE  1.000000e+09      36:15.8  \n",
      "1  6/18/1993          CSE  9.701551e+09      37:51.8  \n",
      "2  6/18/1993          CSE  9.701551e+09      37:51.8  \n",
      "3        NaN          NaN           NaN          NaN  \n",
      "4        NaN          NaN           NaN          NaN  \n",
      "5        NaN          NaN           NaN          NaN  \n",
      "6  6/18/1993          ECE  9.701551e+09      36:15.8  \n",
      "7        NaN          NaN           NaN          NaN  \n",
      "8        NaN          NaN           NaN          NaN  \n",
      "9  6/18/1999        CIVIL  9.701551e+09      37:51.8  \n"
     ]
    }
   ],
   "source": [
    "# c = assert_frame_equal(students1, students2)\n",
    "match_inner = pd.merge(students1, students2, how='inner', on=['name'])\n",
    "match_outer = pd.merge(students1, students2, how='outer', on=['name'])\n",
    "\n",
    "#print(students1.merge(students2, how='inner', on=['name']))\n",
    "\n",
    "#print(students1.join(students2,  on=['name'], rsuffix=\"_stud2\"))\n",
    "\n",
    "print(match_inner)\n",
    "print(match_outer)\n"
   ]
  },
  {
   "cell_type": "code",
   "execution_count": 6,
   "metadata": {},
   "outputs": [],
   "source": [
    "# It seems you need combine_first with set_index for match by indices created by columns EmpID:\n",
    "\n",
    "# df = df_first.set_index('EmpID').combine_first(df_second.set_index('EmpID')).reset_index()"
   ]
  },
  {
   "cell_type": "code",
   "execution_count": 7,
   "metadata": {},
   "outputs": [
    {
     "name": "stdout",
     "output_type": "stream",
     "text": [
      "   product id  serial number\n",
      "0        1455             44\n",
      "1        5452             55\n",
      "2        3775             66\n",
      "   product id  serial number\n",
      "0        7000             44\n",
      "1        2000             55\n",
      "2        1000             77\n",
      "   index  product id_x  serial number  product id_y\n",
      "0      0          1455             44          7000\n",
      "1      1          5452             55          2000\n",
      "   index  product id_x  serial number  product id_y\n",
      "0      0        1455.0             44        7000.0\n",
      "1      1        5452.0             55        2000.0\n",
      "2      2        3775.0             66           NaN\n",
      "3      3           NaN             77        1000.0\n"
     ]
    }
   ],
   "source": [
    "A = pd.DataFrame({'product id':   [1455,5452,3775],\n",
    "                    'serial number':[44,55,66]})\n",
    "\n",
    "\n",
    "B = pd.DataFrame({'product id':   [7000,2000,1000],\n",
    "                    'serial number':[44,55,77]})\n",
    "\n",
    "print(A)\n",
    "print(B)\n",
    "AB_inner = pd.merge(A, B, on='serial number', how=\"inner\").reset_index()\n",
    "AB_outer = pd.merge(A, B, on='serial number', how=\"outer\").reset_index()\n",
    "\n",
    "print(AB_inner)\n",
    "print(AB_outer)"
   ]
  },
  {
   "cell_type": "code",
   "execution_count": null,
   "metadata": {},
   "outputs": [],
   "source": []
  },
  {
   "cell_type": "code",
   "execution_count": 8,
   "metadata": {},
   "outputs": [
    {
     "name": "stdout",
     "output_type": "stream",
     "text": [
      "   index  product id_x  serial number  product id_y\n",
      "0      0        7000.0             44        1455.0\n",
      "1      1        2000.0             55        5452.0\n",
      "2      2        1000.0             77           NaN\n",
      "3      3           NaN             66        3775.0\n"
     ]
    }
   ],
   "source": [
    "test=A.merge(\n",
    "    B,\n",
    "    left_on='serial number',\n",
    "    right_on='serial number',\n",
    "    how=\"outer\"\n",
    ").reset_index()\n",
    "\n",
    "test1=pd.merge(A,B, on=[\"serial number\"], how=\"outer\")\n",
    "\n",
    "\n",
    "test2=B.merge(A,on='serial number', how=\"outer\").reset_index()\n",
    "\n",
    "\n",
    "print(test2)\n",
    "\n",
    "# pokemonData.merge(\n",
    "#         sub_pokemonData[pokemonData.Legendary == False], \n",
    "#         left_on=\"Name\",\n",
    "#         right_on=\"Name\",\n",
    "#         how=\"inner\"\n",
    "# )"
   ]
  },
  {
   "cell_type": "code",
   "execution_count": 9,
   "metadata": {
    "scrolled": true
   },
   "outputs": [
    {
     "data": {
      "text/html": [
       "<div>\n",
       "<style scoped>\n",
       "    .dataframe tbody tr th:only-of-type {\n",
       "        vertical-align: middle;\n",
       "    }\n",
       "\n",
       "    .dataframe tbody tr th {\n",
       "        vertical-align: top;\n",
       "    }\n",
       "\n",
       "    .dataframe thead th {\n",
       "        text-align: right;\n",
       "    }\n",
       "</style>\n",
       "<table border=\"1\" class=\"dataframe\">\n",
       "  <thead>\n",
       "    <tr style=\"text-align: right;\">\n",
       "      <th></th>\n",
       "      <th>std1_name</th>\n",
       "      <th>std2_name</th>\n",
       "    </tr>\n",
       "  </thead>\n",
       "  <tbody>\n",
       "    <tr>\n",
       "      <th>0</th>\n",
       "      <td>Harish</td>\n",
       "      <td>Harish</td>\n",
       "    </tr>\n",
       "    <tr>\n",
       "      <th>1</th>\n",
       "      <td>Vinod</td>\n",
       "      <td>Vinod</td>\n",
       "    </tr>\n",
       "    <tr>\n",
       "      <th>2</th>\n",
       "      <td>Vinod P</td>\n",
       "      <td>Vinod P</td>\n",
       "    </tr>\n",
       "    <tr>\n",
       "      <th>3</th>\n",
       "      <td>Shiva</td>\n",
       "      <td>Shiva</td>\n",
       "    </tr>\n",
       "    <tr>\n",
       "      <th>4</th>\n",
       "      <td>Govinda</td>\n",
       "      <td>Govinda</td>\n",
       "    </tr>\n",
       "  </tbody>\n",
       "</table>\n",
       "</div>"
      ],
      "text/plain": [
       "  std1_name std2_name\n",
       "0    Harish    Harish\n",
       "1     Vinod     Vinod\n",
       "2   Vinod P   Vinod P\n",
       "3     Shiva     Shiva\n",
       "4   Govinda   Govinda"
      ]
     },
     "execution_count": 9,
     "metadata": {},
     "output_type": "execute_result"
    }
   ],
   "source": [
    "students1 = pd.read_csv('./students1.csv')\n",
    "students2 = pd.read_csv('./students2.csv')\n",
    "\n",
    "std1 = students1.add_prefix(\"std1_\")\n",
    "std2 = students2.add_prefix(\"std2_\")\n",
    "\n",
    "inner= std1.merge(std2, left_on=[\"std1_name\"], right_on=[\"std2_name\"], how=\"inner\")\n",
    "outer= std1.merge(std2, left_on=[\"std1_name\"], right_on=[\"std2_name\"], how=\"outer\")\n",
    "\n",
    "outer\n",
    "\n",
    "inner[[\"std1_name\",\"std2_name\"]]"
   ]
  },
  {
   "cell_type": "code",
   "execution_count": 10,
   "metadata": {
    "scrolled": true
   },
   "outputs": [
    {
     "data": {
      "text/html": [
       "<div>\n",
       "<style scoped>\n",
       "    .dataframe tbody tr th:only-of-type {\n",
       "        vertical-align: middle;\n",
       "    }\n",
       "\n",
       "    .dataframe tbody tr th {\n",
       "        vertical-align: top;\n",
       "    }\n",
       "\n",
       "    .dataframe thead th {\n",
       "        text-align: right;\n",
       "    }\n",
       "</style>\n",
       "<table border=\"1\" class=\"dataframe\">\n",
       "  <thead>\n",
       "    <tr style=\"text-align: right;\">\n",
       "      <th></th>\n",
       "      <th>id</th>\n",
       "      <th>name</th>\n",
       "      <th>dob</th>\n",
       "      <th>department</th>\n",
       "      <th>mobile</th>\n",
       "      <th>created_on</th>\n",
       "    </tr>\n",
       "  </thead>\n",
       "  <tbody>\n",
       "    <tr>\n",
       "      <th>0</th>\n",
       "      <td>1</td>\n",
       "      <td>Harish</td>\n",
       "      <td>9/21/1993</td>\n",
       "      <td>CSE</td>\n",
       "      <td>9000620000</td>\n",
       "      <td>36:15.8</td>\n",
       "    </tr>\n",
       "    <tr>\n",
       "      <th>1</th>\n",
       "      <td>2</td>\n",
       "      <td>Vinod</td>\n",
       "      <td>6/18/1993</td>\n",
       "      <td>CSE</td>\n",
       "      <td>9701550994</td>\n",
       "      <td>37:51.8</td>\n",
       "    </tr>\n",
       "    <tr>\n",
       "      <th>2</th>\n",
       "      <td>3</td>\n",
       "      <td>Vinod P</td>\n",
       "      <td>6/18/1993</td>\n",
       "      <td>CSE</td>\n",
       "      <td>9701550994</td>\n",
       "      <td>37:51.8</td>\n",
       "    </tr>\n",
       "    <tr>\n",
       "      <th>3</th>\n",
       "      <td>4</td>\n",
       "      <td>Shiva</td>\n",
       "      <td>6/18/1994</td>\n",
       "      <td>ECE</td>\n",
       "      <td>9701556995</td>\n",
       "      <td>36:15.8</td>\n",
       "    </tr>\n",
       "    <tr>\n",
       "      <th>4</th>\n",
       "      <td>5</td>\n",
       "      <td>Govinda</td>\n",
       "      <td>6/18/1995</td>\n",
       "      <td>ECE</td>\n",
       "      <td>8601550996</td>\n",
       "      <td>37:51.8</td>\n",
       "    </tr>\n",
       "    <tr>\n",
       "      <th>5</th>\n",
       "      <td>6</td>\n",
       "      <td>NaN</td>\n",
       "      <td>6/18/1996</td>\n",
       "      <td>CIVIL</td>\n",
       "      <td>9201520994</td>\n",
       "      <td>37:51.8</td>\n",
       "    </tr>\n",
       "    <tr>\n",
       "      <th>6</th>\n",
       "      <td>7</td>\n",
       "      <td>NaN</td>\n",
       "      <td>6/18/1993</td>\n",
       "      <td>MECH</td>\n",
       "      <td>9701550994</td>\n",
       "      <td>36:15.8</td>\n",
       "    </tr>\n",
       "    <tr>\n",
       "      <th>7</th>\n",
       "      <td>8</td>\n",
       "      <td>NaN</td>\n",
       "      <td>6/18/1997</td>\n",
       "      <td>ECE</td>\n",
       "      <td>9401550994</td>\n",
       "      <td>37:51.8</td>\n",
       "    </tr>\n",
       "    <tr>\n",
       "      <th>8</th>\n",
       "      <td>9</td>\n",
       "      <td>NaN</td>\n",
       "      <td>6/18/1998</td>\n",
       "      <td>MECH</td>\n",
       "      <td>9701550894</td>\n",
       "      <td>37:51.8</td>\n",
       "    </tr>\n",
       "    <tr>\n",
       "      <th>9</th>\n",
       "      <td>10</td>\n",
       "      <td>NaN</td>\n",
       "      <td>6/18/1999</td>\n",
       "      <td>CIVIL</td>\n",
       "      <td>9701550910</td>\n",
       "      <td>37:51.8</td>\n",
       "    </tr>\n",
       "  </tbody>\n",
       "</table>\n",
       "</div>"
      ],
      "text/plain": [
       "   id     name        dob department      mobile created_on\n",
       "0   1   Harish  9/21/1993        CSE  9000620000    36:15.8\n",
       "1   2    Vinod  6/18/1993        CSE  9701550994    37:51.8\n",
       "2   3  Vinod P  6/18/1993        CSE  9701550994    37:51.8\n",
       "3   4    Shiva  6/18/1994        ECE  9701556995    36:15.8\n",
       "4   5  Govinda  6/18/1995        ECE  8601550996    37:51.8\n",
       "5   6      NaN  6/18/1996      CIVIL  9201520994    37:51.8\n",
       "6   7      NaN  6/18/1993       MECH  9701550994    36:15.8\n",
       "7   8      NaN  6/18/1997        ECE  9401550994    37:51.8\n",
       "8   9      NaN  6/18/1998       MECH  9701550894    37:51.8\n",
       "9  10      NaN  6/18/1999      CIVIL  9701550910    37:51.8"
      ]
     },
     "execution_count": 10,
     "metadata": {},
     "output_type": "execute_result"
    }
   ],
   "source": [
    "# dfA['mrp'] = dfB['mrp']\n",
    "# dfA['matchPrice?'] = np.where(dfA['price'] == dfB['mrp'], 'True', 'False')\n",
    "\n",
    "students1['name'] = students2['name']\n",
    "#students1['matchData?'] = np.where(students1['id'] == students2['id'])\n",
    "students1"
   ]
  },
  {
   "cell_type": "code",
   "execution_count": null,
   "metadata": {},
   "outputs": [],
   "source": []
  },
  {
   "cell_type": "code",
   "execution_count": null,
   "metadata": {},
   "outputs": [],
   "source": []
  },
  {
   "cell_type": "code",
   "execution_count": 11,
   "metadata": {},
   "outputs": [
    {
     "name": "stdout",
     "output_type": "stream",
     "text": [
      "   product id  serial number\n",
      "0        1455             44\n",
      "1        5452             55\n",
      "2        3775             66\n",
      "   product id  serial number\n",
      "0        7000             44\n",
      "1        2000             55\n",
      "2        1000             77\n"
     ]
    }
   ],
   "source": [
    "A = pd.DataFrame({'product id':   [1455,5452,3775],\n",
    "                    'serial number':[44,55,66]})\n",
    "\n",
    "\n",
    "B = pd.DataFrame({'product id':   [7000,2000,1000],\n",
    "                    'serial number':[44,55,77]})\n",
    "\n",
    "print(A)\n",
    "print(B)"
   ]
  },
  {
   "cell_type": "code",
   "execution_count": null,
   "metadata": {},
   "outputs": [],
   "source": []
  }
 ],
 "metadata": {
  "kernelspec": {
   "display_name": "Python 3",
   "language": "python",
   "name": "python3"
  },
  "language_info": {
   "codemirror_mode": {
    "name": "ipython",
    "version": 3
   },
   "file_extension": ".py",
   "mimetype": "text/x-python",
   "name": "python",
   "nbconvert_exporter": "python",
   "pygments_lexer": "ipython3",
   "version": "3.8.3"
  }
 },
 "nbformat": 4,
 "nbformat_minor": 4
}
