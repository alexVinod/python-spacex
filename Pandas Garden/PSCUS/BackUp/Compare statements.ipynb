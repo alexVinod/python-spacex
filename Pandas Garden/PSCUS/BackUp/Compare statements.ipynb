{
 "cells": [
  {
   "cell_type": "code",
   "execution_count": 1,
   "metadata": {},
   "outputs": [],
   "source": [
    "import pandas as pd\n",
    "import numpy as np"
   ]
  },
  {
   "cell_type": "code",
   "execution_count": 2,
   "metadata": {},
   "outputs": [],
   "source": [
    "statement_1_df = pd.read_csv(\"./statement1.csv\")\n",
    "statement_2_df = pd.read_csv(\"./statement2.csv\")\n",
    "(statement_1_df,statement_2_df)\n",
    "\n",
    "test = statement_1_df.reset_index().to_json(orient='records')\n"
   ]
  },
  {
   "cell_type": "code",
   "execution_count": 3,
   "metadata": {},
   "outputs": [],
   "source": [
    "statement_1_df=statement_1_df.add_prefix('st1_')\n",
    "statement_2_df=statement_2_df.add_prefix('st2_')"
   ]
  },
  {
   "cell_type": "code",
   "execution_count": 4,
   "metadata": {},
   "outputs": [
    {
     "data": {
      "text/html": [
       "<div>\n",
       "<style scoped>\n",
       "    .dataframe tbody tr th:only-of-type {\n",
       "        vertical-align: middle;\n",
       "    }\n",
       "\n",
       "    .dataframe tbody tr th {\n",
       "        vertical-align: top;\n",
       "    }\n",
       "\n",
       "    .dataframe thead th {\n",
       "        text-align: right;\n",
       "    }\n",
       "</style>\n",
       "<table border=\"1\" class=\"dataframe\">\n",
       "  <thead>\n",
       "    <tr style=\"text-align: right;\">\n",
       "      <th></th>\n",
       "      <th>st1_accountnum</th>\n",
       "      <th>st1_accounttype</th>\n",
       "      <th>st1_balance</th>\n",
       "      <th>st2_accountnum</th>\n",
       "      <th>st2_accounttype</th>\n",
       "      <th>st2_balance</th>\n",
       "      <th>compare</th>\n",
       "    </tr>\n",
       "  </thead>\n",
       "  <tbody>\n",
       "    <tr>\n",
       "      <th>0</th>\n",
       "      <td>1.0</td>\n",
       "      <td>checking</td>\n",
       "      <td>87.0</td>\n",
       "      <td>1.0</td>\n",
       "      <td>checking</td>\n",
       "      <td>87.0</td>\n",
       "      <td>1</td>\n",
       "    </tr>\n",
       "    <tr>\n",
       "      <th>1</th>\n",
       "      <td>2.0</td>\n",
       "      <td>checking</td>\n",
       "      <td>36.0</td>\n",
       "      <td>2.0</td>\n",
       "      <td>checking</td>\n",
       "      <td>36.0</td>\n",
       "      <td>1</td>\n",
       "    </tr>\n",
       "    <tr>\n",
       "      <th>2</th>\n",
       "      <td>3.0</td>\n",
       "      <td>checking</td>\n",
       "      <td>82.0</td>\n",
       "      <td>3.0</td>\n",
       "      <td>checking</td>\n",
       "      <td>82.0</td>\n",
       "      <td>1</td>\n",
       "    </tr>\n",
       "    <tr>\n",
       "      <th>3</th>\n",
       "      <td>4.0</td>\n",
       "      <td>checking</td>\n",
       "      <td>48.0</td>\n",
       "      <td>4.0</td>\n",
       "      <td>checking</td>\n",
       "      <td>48.0</td>\n",
       "      <td>1</td>\n",
       "    </tr>\n",
       "    <tr>\n",
       "      <th>4</th>\n",
       "      <td>9.0</td>\n",
       "      <td>checking</td>\n",
       "      <td>54.0</td>\n",
       "      <td>9.0</td>\n",
       "      <td>checking</td>\n",
       "      <td>54.0</td>\n",
       "      <td>1</td>\n",
       "    </tr>\n",
       "    <tr>\n",
       "      <th>5</th>\n",
       "      <td>10.0</td>\n",
       "      <td>checking</td>\n",
       "      <td>65.0</td>\n",
       "      <td>10.0</td>\n",
       "      <td>checking</td>\n",
       "      <td>65.0</td>\n",
       "      <td>1</td>\n",
       "    </tr>\n",
       "    <tr>\n",
       "      <th>6</th>\n",
       "      <td>11.0</td>\n",
       "      <td>savings</td>\n",
       "      <td>24.0</td>\n",
       "      <td>11.0</td>\n",
       "      <td>savings</td>\n",
       "      <td>24.0</td>\n",
       "      <td>1</td>\n",
       "    </tr>\n",
       "    <tr>\n",
       "      <th>7</th>\n",
       "      <td>12.0</td>\n",
       "      <td>savings</td>\n",
       "      <td>15.0</td>\n",
       "      <td>12.0</td>\n",
       "      <td>savings</td>\n",
       "      <td>15.0</td>\n",
       "      <td>1</td>\n",
       "    </tr>\n",
       "  </tbody>\n",
       "</table>\n",
       "</div>"
      ],
      "text/plain": [
       "   st1_accountnum st1_accounttype  st1_balance  st2_accountnum  \\\n",
       "0             1.0        checking         87.0             1.0   \n",
       "1             2.0        checking         36.0             2.0   \n",
       "2             3.0        checking         82.0             3.0   \n",
       "3             4.0        checking         48.0             4.0   \n",
       "4             9.0        checking         54.0             9.0   \n",
       "5            10.0        checking         65.0            10.0   \n",
       "6            11.0         savings         24.0            11.0   \n",
       "7            12.0         savings         15.0            12.0   \n",
       "\n",
       "  st2_accounttype  st2_balance  compare  \n",
       "0        checking         87.0        1  \n",
       "1        checking         36.0        1  \n",
       "2        checking         82.0        1  \n",
       "3        checking         48.0        1  \n",
       "4        checking         54.0        1  \n",
       "5        checking         65.0        1  \n",
       "6         savings         24.0        1  \n",
       "7         savings         15.0        1  "
      ]
     },
     "execution_count": 4,
     "metadata": {},
     "output_type": "execute_result"
    }
   ],
   "source": [
    "statement_1_df\n",
    "statement_2_df\n",
    "\n",
    "merged_statements_df = statement_1_df.merge(statement_2_df, left_on=['st1_accountnum', 'st1_accounttype', 'st1_balance'], \n",
    "                     right_on=['st2_accountnum', 'st2_accounttype', 'st2_balance'], how='outer' )\n",
    "\n",
    "\n",
    "\n",
    "def filter_data(df):\n",
    "    if df['st1_accountnum'] == df['st2_accountnum'] and df['st1_accounttype'] == df['st2_accounttype'] and df['st1_balance'] ==  df['st2_balance']:\n",
    "        return 1\n",
    "    else:\n",
    "        return 0\n",
    "\n",
    "merged_statements_df['compare'] = merged_statements_df.apply(filter_data, axis=1)    \n",
    "    \n",
    "    \n",
    "not_equal = merged_statements_df[merged_statements_df[\"compare\"] == 0]  \n",
    "equal = merged_statements_df[merged_statements_df[\"compare\"] == 1]\n",
    "\n",
    "not_equal\n",
    "\n",
    "\n",
    "matchs1 = equal[['st1_accountnum', 'st1_accounttype', 'st1_balance']]\n",
    "matchs2 = equal[['st2_accountnum', 'st2_accounttype', 'st2_balance']]\n",
    "\n",
    "matchs1\n",
    "matchs2\n",
    "\n",
    "merged_statements2_df = matchs1.merge(matchs2, left_on=['st1_accountnum', 'st1_accounttype', 'st1_balance'], \n",
    "                     right_on=['st2_accountnum', 'st2_accounttype', 'st2_balance'], how='outer' )\n",
    "\n",
    "merged_statements2_df['compare'] = merged_statements2_df.apply(filter_data, axis=1)    \n",
    "\n",
    "merged_statements2_df[merged_statements2_df[\"compare\"] == 0]  \n",
    "merged_statements2_df[merged_statements2_df[\"compare\"] == 1]  \n",
    "\n",
    "\n",
    "\n"
   ]
  },
  {
   "cell_type": "code",
   "execution_count": 5,
   "metadata": {},
   "outputs": [
    {
     "name": "stdout",
     "output_type": "stream",
     "text": [
      "15 12\n"
     ]
    },
    {
     "ename": "KeyError",
     "evalue": "'accounttype'",
     "output_type": "error",
     "traceback": [
      "\u001b[1;31m---------------------------------------------------------------------------\u001b[0m",
      "\u001b[1;31mKeyError\u001b[0m                                  Traceback (most recent call last)",
      "\u001b[1;32m~\\anaconda3\\lib\\site-packages\\pandas\\core\\indexes\\base.py\u001b[0m in \u001b[0;36mget_loc\u001b[1;34m(self, key, method, tolerance)\u001b[0m\n\u001b[0;32m   2645\u001b[0m             \u001b[1;32mtry\u001b[0m\u001b[1;33m:\u001b[0m\u001b[1;33m\u001b[0m\u001b[1;33m\u001b[0m\u001b[0m\n\u001b[1;32m-> 2646\u001b[1;33m                 \u001b[1;32mreturn\u001b[0m \u001b[0mself\u001b[0m\u001b[1;33m.\u001b[0m\u001b[0m_engine\u001b[0m\u001b[1;33m.\u001b[0m\u001b[0mget_loc\u001b[0m\u001b[1;33m(\u001b[0m\u001b[0mkey\u001b[0m\u001b[1;33m)\u001b[0m\u001b[1;33m\u001b[0m\u001b[1;33m\u001b[0m\u001b[0m\n\u001b[0m\u001b[0;32m   2647\u001b[0m             \u001b[1;32mexcept\u001b[0m \u001b[0mKeyError\u001b[0m\u001b[1;33m:\u001b[0m\u001b[1;33m\u001b[0m\u001b[1;33m\u001b[0m\u001b[0m\n",
      "\u001b[1;32mpandas\\_libs\\index.pyx\u001b[0m in \u001b[0;36mpandas._libs.index.IndexEngine.get_loc\u001b[1;34m()\u001b[0m\n",
      "\u001b[1;32mpandas\\_libs\\index.pyx\u001b[0m in \u001b[0;36mpandas._libs.index.IndexEngine.get_loc\u001b[1;34m()\u001b[0m\n",
      "\u001b[1;32mpandas\\_libs\\hashtable_class_helper.pxi\u001b[0m in \u001b[0;36mpandas._libs.hashtable.PyObjectHashTable.get_item\u001b[1;34m()\u001b[0m\n",
      "\u001b[1;32mpandas\\_libs\\hashtable_class_helper.pxi\u001b[0m in \u001b[0;36mpandas._libs.hashtable.PyObjectHashTable.get_item\u001b[1;34m()\u001b[0m\n",
      "\u001b[1;31mKeyError\u001b[0m: 'accounttype'",
      "\nDuring handling of the above exception, another exception occurred:\n",
      "\u001b[1;31mKeyError\u001b[0m                                  Traceback (most recent call last)",
      "\u001b[1;32m<ipython-input-5-5bd797fc686b>\u001b[0m in \u001b[0;36m<module>\u001b[1;34m\u001b[0m\n\u001b[0;32m     15\u001b[0m \u001b[1;33m\u001b[0m\u001b[0m\n\u001b[0;32m     16\u001b[0m \u001b[0mcombined\u001b[0m \u001b[1;33m=\u001b[0m  \u001b[0mpd\u001b[0m\u001b[1;33m.\u001b[0m\u001b[0mconcat\u001b[0m\u001b[1;33m(\u001b[0m\u001b[1;33m[\u001b[0m\u001b[0mpd\u001b[0m\u001b[1;33m.\u001b[0m\u001b[0mconcat\u001b[0m\u001b[1;33m(\u001b[0m\u001b[1;33m[\u001b[0m\u001b[0mstatement_1_df\u001b[0m\u001b[1;33m,\u001b[0m \u001b[0mstatement_2_df\u001b[0m\u001b[1;33m]\u001b[0m\u001b[1;33m,\u001b[0m \u001b[0maxis\u001b[0m\u001b[1;33m=\u001b[0m\u001b[1;36m0\u001b[0m\u001b[1;33m)\u001b[0m\u001b[1;33m]\u001b[0m\u001b[1;33m)\u001b[0m\u001b[1;31m#.to_csv('foo.csv')\u001b[0m\u001b[1;33m\u001b[0m\u001b[1;33m\u001b[0m\u001b[0m\n\u001b[1;32m---> 17\u001b[1;33m \u001b[0mabc\u001b[0m \u001b[1;33m=\u001b[0m \u001b[0mcombined\u001b[0m\u001b[1;33m[\u001b[0m\u001b[0mcombined\u001b[0m\u001b[1;33m[\u001b[0m\u001b[1;34m'accounttype'\u001b[0m\u001b[1;33m]\u001b[0m\u001b[1;33m.\u001b[0m\u001b[0mnotnull\u001b[0m\u001b[1;33m(\u001b[0m\u001b[1;33m)\u001b[0m\u001b[1;33m]\u001b[0m\u001b[1;33m.\u001b[0m\u001b[0mdrop_duplicates\u001b[0m\u001b[1;33m(\u001b[0m\u001b[0msubset\u001b[0m\u001b[1;33m=\u001b[0m\u001b[1;33m[\u001b[0m\u001b[1;34m'accounttype'\u001b[0m\u001b[1;33m]\u001b[0m\u001b[1;33m)\u001b[0m\u001b[1;33m[\u001b[0m\u001b[1;33m[\u001b[0m\u001b[1;34m'accounttype'\u001b[0m\u001b[1;33m]\u001b[0m\u001b[1;33m]\u001b[0m\u001b[1;33m\u001b[0m\u001b[1;33m\u001b[0m\u001b[0m\n\u001b[0m\u001b[0;32m     18\u001b[0m \u001b[0mabc\u001b[0m\u001b[1;33m\u001b[0m\u001b[1;33m\u001b[0m\u001b[0m\n\u001b[0;32m     19\u001b[0m \u001b[1;31m#abc['accounttype'].unique()\u001b[0m\u001b[1;33m\u001b[0m\u001b[1;33m\u001b[0m\u001b[1;33m\u001b[0m\u001b[0m\n",
      "\u001b[1;32m~\\anaconda3\\lib\\site-packages\\pandas\\core\\frame.py\u001b[0m in \u001b[0;36m__getitem__\u001b[1;34m(self, key)\u001b[0m\n\u001b[0;32m   2798\u001b[0m             \u001b[1;32mif\u001b[0m \u001b[0mself\u001b[0m\u001b[1;33m.\u001b[0m\u001b[0mcolumns\u001b[0m\u001b[1;33m.\u001b[0m\u001b[0mnlevels\u001b[0m \u001b[1;33m>\u001b[0m \u001b[1;36m1\u001b[0m\u001b[1;33m:\u001b[0m\u001b[1;33m\u001b[0m\u001b[1;33m\u001b[0m\u001b[0m\n\u001b[0;32m   2799\u001b[0m                 \u001b[1;32mreturn\u001b[0m \u001b[0mself\u001b[0m\u001b[1;33m.\u001b[0m\u001b[0m_getitem_multilevel\u001b[0m\u001b[1;33m(\u001b[0m\u001b[0mkey\u001b[0m\u001b[1;33m)\u001b[0m\u001b[1;33m\u001b[0m\u001b[1;33m\u001b[0m\u001b[0m\n\u001b[1;32m-> 2800\u001b[1;33m             \u001b[0mindexer\u001b[0m \u001b[1;33m=\u001b[0m \u001b[0mself\u001b[0m\u001b[1;33m.\u001b[0m\u001b[0mcolumns\u001b[0m\u001b[1;33m.\u001b[0m\u001b[0mget_loc\u001b[0m\u001b[1;33m(\u001b[0m\u001b[0mkey\u001b[0m\u001b[1;33m)\u001b[0m\u001b[1;33m\u001b[0m\u001b[1;33m\u001b[0m\u001b[0m\n\u001b[0m\u001b[0;32m   2801\u001b[0m             \u001b[1;32mif\u001b[0m \u001b[0mis_integer\u001b[0m\u001b[1;33m(\u001b[0m\u001b[0mindexer\u001b[0m\u001b[1;33m)\u001b[0m\u001b[1;33m:\u001b[0m\u001b[1;33m\u001b[0m\u001b[1;33m\u001b[0m\u001b[0m\n\u001b[0;32m   2802\u001b[0m                 \u001b[0mindexer\u001b[0m \u001b[1;33m=\u001b[0m \u001b[1;33m[\u001b[0m\u001b[0mindexer\u001b[0m\u001b[1;33m]\u001b[0m\u001b[1;33m\u001b[0m\u001b[1;33m\u001b[0m\u001b[0m\n",
      "\u001b[1;32m~\\anaconda3\\lib\\site-packages\\pandas\\core\\indexes\\base.py\u001b[0m in \u001b[0;36mget_loc\u001b[1;34m(self, key, method, tolerance)\u001b[0m\n\u001b[0;32m   2646\u001b[0m                 \u001b[1;32mreturn\u001b[0m \u001b[0mself\u001b[0m\u001b[1;33m.\u001b[0m\u001b[0m_engine\u001b[0m\u001b[1;33m.\u001b[0m\u001b[0mget_loc\u001b[0m\u001b[1;33m(\u001b[0m\u001b[0mkey\u001b[0m\u001b[1;33m)\u001b[0m\u001b[1;33m\u001b[0m\u001b[1;33m\u001b[0m\u001b[0m\n\u001b[0;32m   2647\u001b[0m             \u001b[1;32mexcept\u001b[0m \u001b[0mKeyError\u001b[0m\u001b[1;33m:\u001b[0m\u001b[1;33m\u001b[0m\u001b[1;33m\u001b[0m\u001b[0m\n\u001b[1;32m-> 2648\u001b[1;33m                 \u001b[1;32mreturn\u001b[0m \u001b[0mself\u001b[0m\u001b[1;33m.\u001b[0m\u001b[0m_engine\u001b[0m\u001b[1;33m.\u001b[0m\u001b[0mget_loc\u001b[0m\u001b[1;33m(\u001b[0m\u001b[0mself\u001b[0m\u001b[1;33m.\u001b[0m\u001b[0m_maybe_cast_indexer\u001b[0m\u001b[1;33m(\u001b[0m\u001b[0mkey\u001b[0m\u001b[1;33m)\u001b[0m\u001b[1;33m)\u001b[0m\u001b[1;33m\u001b[0m\u001b[1;33m\u001b[0m\u001b[0m\n\u001b[0m\u001b[0;32m   2649\u001b[0m         \u001b[0mindexer\u001b[0m \u001b[1;33m=\u001b[0m \u001b[0mself\u001b[0m\u001b[1;33m.\u001b[0m\u001b[0mget_indexer\u001b[0m\u001b[1;33m(\u001b[0m\u001b[1;33m[\u001b[0m\u001b[0mkey\u001b[0m\u001b[1;33m]\u001b[0m\u001b[1;33m,\u001b[0m \u001b[0mmethod\u001b[0m\u001b[1;33m=\u001b[0m\u001b[0mmethod\u001b[0m\u001b[1;33m,\u001b[0m \u001b[0mtolerance\u001b[0m\u001b[1;33m=\u001b[0m\u001b[0mtolerance\u001b[0m\u001b[1;33m)\u001b[0m\u001b[1;33m\u001b[0m\u001b[1;33m\u001b[0m\u001b[0m\n\u001b[0;32m   2650\u001b[0m         \u001b[1;32mif\u001b[0m \u001b[0mindexer\u001b[0m\u001b[1;33m.\u001b[0m\u001b[0mndim\u001b[0m \u001b[1;33m>\u001b[0m \u001b[1;36m1\u001b[0m \u001b[1;32mor\u001b[0m \u001b[0mindexer\u001b[0m\u001b[1;33m.\u001b[0m\u001b[0msize\u001b[0m \u001b[1;33m>\u001b[0m \u001b[1;36m1\u001b[0m\u001b[1;33m:\u001b[0m\u001b[1;33m\u001b[0m\u001b[1;33m\u001b[0m\u001b[0m\n",
      "\u001b[1;32mpandas\\_libs\\index.pyx\u001b[0m in \u001b[0;36mpandas._libs.index.IndexEngine.get_loc\u001b[1;34m()\u001b[0m\n",
      "\u001b[1;32mpandas\\_libs\\index.pyx\u001b[0m in \u001b[0;36mpandas._libs.index.IndexEngine.get_loc\u001b[1;34m()\u001b[0m\n",
      "\u001b[1;32mpandas\\_libs\\hashtable_class_helper.pxi\u001b[0m in \u001b[0;36mpandas._libs.hashtable.PyObjectHashTable.get_item\u001b[1;34m()\u001b[0m\n",
      "\u001b[1;32mpandas\\_libs\\hashtable_class_helper.pxi\u001b[0m in \u001b[0;36mpandas._libs.hashtable.PyObjectHashTable.get_item\u001b[1;34m()\u001b[0m\n",
      "\u001b[1;31mKeyError\u001b[0m: 'accounttype'"
     ]
    }
   ],
   "source": [
    "statement_1_df\n",
    "# s=statement_2_df[[\"st2_balance\"]].drop_duplicates(subset = [\"st2_balance\"])\n",
    "\n",
    "statement_1_df\n",
    "statement_2_df\n",
    "\n",
    "print(statement_1_df.shape[0], statement_2_df.shape[0])\n",
    "\n",
    "# APPEND FUNCTIONALITY\n",
    "# st3 = statement_1_df.append(statement_2_df, ignore_index=True)\n",
    "# print(st3.shape[0])\n",
    "# st3\n",
    "\n",
    "\n",
    "\n",
    "combined =  pd.concat([pd.concat([statement_1_df, statement_2_df], axis=0)])#.to_csv('foo.csv')\n",
    "abc = combined[combined['accounttype'].notnull()].drop_duplicates(subset=['accounttype'])[['accounttype']]\n",
    "abc\n",
    "#abc['accounttype'].unique()\n",
    "#pd.merge(statement_1_df,statement_2_df, left_on=\n",
    "# for index, row in statement_1_df.iterrows():\n",
    "#     print(index, row)\n",
    "#    print(\"---\"*20)\n",
    "\n",
    "statement_1_df"
   ]
  },
  {
   "cell_type": "markdown",
   "metadata": {},
   "source": [
    "### I want to compare two files based on accountnum"
   ]
  },
  {
   "cell_type": "code",
   "execution_count": 30,
   "metadata": {},
   "outputs": [
    {
     "data": {
      "text/html": [
       "<div>\n",
       "<style scoped>\n",
       "    .dataframe tbody tr th:only-of-type {\n",
       "        vertical-align: middle;\n",
       "    }\n",
       "\n",
       "    .dataframe tbody tr th {\n",
       "        vertical-align: top;\n",
       "    }\n",
       "\n",
       "    .dataframe thead th {\n",
       "        text-align: right;\n",
       "    }\n",
       "</style>\n",
       "<table border=\"1\" class=\"dataframe\">\n",
       "  <thead>\n",
       "    <tr style=\"text-align: right;\">\n",
       "      <th></th>\n",
       "      <th>st1_accountnum</th>\n",
       "      <th>st1_accounttype</th>\n",
       "      <th>st1_balance</th>\n",
       "      <th>st2_accountnum</th>\n",
       "      <th>st2_accounttype</th>\n",
       "      <th>st2_balance</th>\n",
       "    </tr>\n",
       "  </thead>\n",
       "  <tbody>\n",
       "    <tr>\n",
       "      <th>0</th>\n",
       "      <td>1</td>\n",
       "      <td>checking</td>\n",
       "      <td>87.0</td>\n",
       "      <td>1</td>\n",
       "      <td>checking</td>\n",
       "      <td>87</td>\n",
       "    </tr>\n",
       "    <tr>\n",
       "      <th>1</th>\n",
       "      <td>2</td>\n",
       "      <td>checking</td>\n",
       "      <td>36.0</td>\n",
       "      <td>2</td>\n",
       "      <td>checking</td>\n",
       "      <td>36</td>\n",
       "    </tr>\n",
       "    <tr>\n",
       "      <th>2</th>\n",
       "      <td>3</td>\n",
       "      <td>checking</td>\n",
       "      <td>82.0</td>\n",
       "      <td>3</td>\n",
       "      <td>checking</td>\n",
       "      <td>82</td>\n",
       "    </tr>\n",
       "    <tr>\n",
       "      <th>3</th>\n",
       "      <td>4</td>\n",
       "      <td>checking</td>\n",
       "      <td>48.0</td>\n",
       "      <td>4</td>\n",
       "      <td>checking</td>\n",
       "      <td>48</td>\n",
       "    </tr>\n",
       "    <tr>\n",
       "      <th>4</th>\n",
       "      <td>5</td>\n",
       "      <td>savings</td>\n",
       "      <td>80.0</td>\n",
       "      <td>5</td>\n",
       "      <td>checking</td>\n",
       "      <td>21</td>\n",
       "    </tr>\n",
       "    <tr>\n",
       "      <th>5</th>\n",
       "      <td>6</td>\n",
       "      <td>checking</td>\n",
       "      <td>84.0</td>\n",
       "      <td>6</td>\n",
       "      <td>savings</td>\n",
       "      <td>66</td>\n",
       "    </tr>\n",
       "    <tr>\n",
       "      <th>6</th>\n",
       "      <td>7</td>\n",
       "      <td>savings</td>\n",
       "      <td>66.0</td>\n",
       "      <td>7</td>\n",
       "      <td>checking</td>\n",
       "      <td>84</td>\n",
       "    </tr>\n",
       "    <tr>\n",
       "      <th>7</th>\n",
       "      <td>8</td>\n",
       "      <td>NaN</td>\n",
       "      <td>21.0</td>\n",
       "      <td>8</td>\n",
       "      <td>savings</td>\n",
       "      <td>80</td>\n",
       "    </tr>\n",
       "    <tr>\n",
       "      <th>8</th>\n",
       "      <td>9</td>\n",
       "      <td>checking</td>\n",
       "      <td>54.0</td>\n",
       "      <td>9</td>\n",
       "      <td>checking</td>\n",
       "      <td>54</td>\n",
       "    </tr>\n",
       "    <tr>\n",
       "      <th>9</th>\n",
       "      <td>10</td>\n",
       "      <td>checking</td>\n",
       "      <td>65.0</td>\n",
       "      <td>10</td>\n",
       "      <td>checking</td>\n",
       "      <td>65</td>\n",
       "    </tr>\n",
       "    <tr>\n",
       "      <th>10</th>\n",
       "      <td>11</td>\n",
       "      <td>savings</td>\n",
       "      <td>24.0</td>\n",
       "      <td>11</td>\n",
       "      <td>savings</td>\n",
       "      <td>24</td>\n",
       "    </tr>\n",
       "    <tr>\n",
       "      <th>11</th>\n",
       "      <td>12</td>\n",
       "      <td>savings</td>\n",
       "      <td>15.0</td>\n",
       "      <td>12</td>\n",
       "      <td>savings</td>\n",
       "      <td>15</td>\n",
       "    </tr>\n",
       "  </tbody>\n",
       "</table>\n",
       "</div>"
      ],
      "text/plain": [
       "    st1_accountnum st1_accounttype  st1_balance  st2_accountnum  \\\n",
       "0                1        checking         87.0               1   \n",
       "1                2        checking         36.0               2   \n",
       "2                3        checking         82.0               3   \n",
       "3                4        checking         48.0               4   \n",
       "4                5         savings         80.0               5   \n",
       "5                6        checking         84.0               6   \n",
       "6                7         savings         66.0               7   \n",
       "7                8             NaN         21.0               8   \n",
       "8                9        checking         54.0               9   \n",
       "9               10        checking         65.0              10   \n",
       "10              11         savings         24.0              11   \n",
       "11              12         savings         15.0              12   \n",
       "\n",
       "   st2_accounttype  st2_balance  \n",
       "0         checking           87  \n",
       "1         checking           36  \n",
       "2         checking           82  \n",
       "3         checking           48  \n",
       "4         checking           21  \n",
       "5          savings           66  \n",
       "6         checking           84  \n",
       "7          savings           80  \n",
       "8         checking           54  \n",
       "9         checking           65  \n",
       "10         savings           24  \n",
       "11         savings           15  "
      ]
     },
     "execution_count": 30,
     "metadata": {},
     "output_type": "execute_result"
    }
   ],
   "source": [
    "merged_statements_df = pd.merge(statement_1_df,statement_2_df, how=\"inner\", left_on=\"st1_accountnum\", right_on=\"st2_accountnum\")\n",
    "\n",
    "# merged_statements_df = statement_1_df.merge(statement_2_df, left_on=\"st1_accountnum\", right_on=\"st2_accountnum\", how=\"inner\")\n",
    "merged_statements_df"
   ]
  },
  {
   "cell_type": "code",
   "execution_count": null,
   "metadata": {},
   "outputs": [],
   "source": [
    "merged_statements_df[merged_statements_df['st1_accounttype'] ] # = merged_statements_df[merged_statements_df['st1_accounttype'].notnull()]\n",
    "merged_statements_df"
   ]
  },
  {
   "cell_type": "code",
   "execution_count": null,
   "metadata": {},
   "outputs": [],
   "source": [
    "# print(merged_statements_df['st1_accountnum'].str.contains(df['st1_accountnum']))\n",
    "# .contains('ps', na=False, case=False)]\n",
    "# print(df['st1_accounttype'].str.contains('checking', na=False, case=False))\n",
    "def isNaN(string) : string != string\n",
    "    \n",
    "def compare_account_type(df):\n",
    "    \n",
    "    if df['st1_accounttype'] is not None  and 'checking' in df['st1_accounttype'] :\n",
    "        print(-1)\n",
    "    if (df[\"st1_accounttype\"] == df[\"st2_accounttype\"]) and (df[\"st1_accountnum\"] == df[\"st2_accountnum\"]):\n",
    "        return 1\n",
    "    else:\n",
    "        return 0\n",
    "\n",
    "# def compare_account_type(df):\n",
    "#     if (df[\"st1_accounttype\"] == df[\"st2_accounttype\"]) and (df[\"st1_accountnum\"] == df[\"st2_accountnum\"]):\n",
    "#         return 1\n",
    "#     else:\n",
    "#         return 0"
   ]
  },
  {
   "cell_type": "code",
   "execution_count": null,
   "metadata": {},
   "outputs": [],
   "source": [
    "merged_statements_df['account_compare'] = merged_statements_df.apply(compare_account_type, axis=1)\n",
    "merged_statements_df"
   ]
  },
  {
   "cell_type": "code",
   "execution_count": null,
   "metadata": {
    "scrolled": true
   },
   "outputs": [],
   "source": [
    "# merged_statements_df\n",
    "merged_statements_df[merged_statements_df[\"account_compare\"] == 0]  \n",
    "merged_statements_df[merged_statements_df[\"account_compare\"] == 1]"
   ]
  },
  {
   "cell_type": "markdown",
   "metadata": {},
   "source": [
    "### I Want to compare two files and make sure they are in exact same ORDER"
   ]
  },
  {
   "cell_type": "code",
   "execution_count": null,
   "metadata": {},
   "outputs": [],
   "source": [
    "combined_matched_on_index_df = pd.merge(statement_1_df, statement_2_df, left_index=True, right_index=True, how=\"outer\")"
   ]
  },
  {
   "cell_type": "code",
   "execution_count": null,
   "metadata": {},
   "outputs": [],
   "source": [
    "def compare_accountnum(df):\n",
    "    if (df[\"st1_accountnum\"] == df[\"st2_accountnum\"]):\n",
    "        return 1\n",
    "    else:\n",
    "        return 0"
   ]
  },
  {
   "cell_type": "code",
   "execution_count": null,
   "metadata": {},
   "outputs": [],
   "source": [
    "combined_matched_on_index_df['order_compare'] = combined_matched_on_index_df.apply(compare_accountnum, axis=1)"
   ]
  },
  {
   "cell_type": "code",
   "execution_count": null,
   "metadata": {},
   "outputs": [],
   "source": [
    "combined_matched_on_index_df"
   ]
  },
  {
   "cell_type": "code",
   "execution_count": null,
   "metadata": {},
   "outputs": [],
   "source": []
  },
  {
   "cell_type": "code",
   "execution_count": null,
   "metadata": {},
   "outputs": [],
   "source": []
  },
  {
   "cell_type": "code",
   "execution_count": null,
   "metadata": {},
   "outputs": [],
   "source": []
  },
  {
   "cell_type": "code",
   "execution_count": null,
   "metadata": {},
   "outputs": [],
   "source": [
    "statement_1_df.columns\n"
   ]
  },
  {
   "cell_type": "code",
   "execution_count": null,
   "metadata": {},
   "outputs": [],
   "source": [
    "for i in statement_1_df.columns: print(i)"
   ]
  },
  {
   "cell_type": "code",
   "execution_count": null,
   "metadata": {},
   "outputs": [],
   "source": [
    "test = pd.read_csv(\"./statement1.csv\", index_col=False)\n",
    "new_df = test.loc[:, test.columns != 'balance'].fillna(value=\"\")\n",
    "new_df\n",
    "\n",
    "#new_df.columns"
   ]
  },
  {
   "cell_type": "code",
   "execution_count": null,
   "metadata": {},
   "outputs": [],
   "source": [
    "translation = {39: None}"
   ]
  },
  {
   "cell_type": "code",
   "execution_count": null,
   "metadata": {},
   "outputs": [],
   "source": [
    "translation\n",
    "columns = str(tuple(test.columns)).translate(translation)\n",
    "columns\n",
    "','.join(\"?\"*len(test.columns))\n",
    "\n",
    "','.join(test.columns)\n",
    "\n",
    "print(columns)\n",
    "for data in test.itertuples(index=False):\n",
    "    print(data)\n"
   ]
  },
  {
   "cell_type": "code",
   "execution_count": null,
   "metadata": {},
   "outputs": [],
   "source": [
    "a=test.head(1)\n",
    "a[\"accounttype\"].to_string(index=False)\n",
    "# print ((df['Email']).to_string(index=False))\n",
    "\n",
    "for index,row in enumerate(test.itertuples(index=False)):\n",
    "    #params = tuple([row['accountnum'], row['accounttype'], row['balance']])\n",
    "    #print(params)\n",
    "    print(row)\n",
    "\n",
    "for index, row in test.iterrows():\n",
    "    params = tuple([row['accountnum'], row['accounttype'], row['balance']])\n",
    "    print(params)\n",
    "    \n"
   ]
  },
  {
   "cell_type": "code",
   "execution_count": null,
   "metadata": {},
   "outputs": [],
   "source": [
    "index_no = test.columns.get_loc(\"balance\") \n",
    "print(index_no)\n"
   ]
  },
  {
   "cell_type": "code",
   "execution_count": null,
   "metadata": {},
   "outputs": [],
   "source": [
    "test\n",
    "get_locs = pd.DataFrame()\n",
    "get_locs\n",
    "# get_locs[\"locations\"] = test[\"accounttype\"].map({\"checking\":\"Checking Data\", \"savings\": \"Savings Data\"}) \n",
    "\n",
    "a=[\"savings\"]\n",
    "\n",
    "# for i in a:\n",
    "#     #get_locs[\"locations\"] = test[\"accounttype\"].str.contains(i)\n",
    "\n",
    "get_locs\n",
    "\n",
    "\n",
    "# searchfor = ['og', 'at']\n",
    "# s[s.str.contains('|'.join(searchfor))]\n",
    "#test[test.str.contains(\"|\".join(a))]\n",
    "\n",
    "test[test['accounttype'].str.contains(\"|\".join(a))]\n",
    "\n",
    "\n"
   ]
  },
  {
   "cell_type": "code",
   "execution_count": null,
   "metadata": {},
   "outputs": [],
   "source": []
  },
  {
   "cell_type": "code",
   "execution_count": null,
   "metadata": {},
   "outputs": [],
   "source": []
  },
  {
   "cell_type": "markdown",
   "metadata": {},
   "source": [
    "### SPEED IN LOOPS DATA"
   ]
  },
  {
   "cell_type": "code",
   "execution_count": null,
   "metadata": {},
   "outputs": [],
   "source": [
    "# Python 3.6.5, NumPy 1.14.3, Pandas 0.23.0\n",
    "\n",
    "np.random.seed(0)\n",
    "N = 10**5\n",
    "\n",
    "%timeit list(map(divide, df['A'], df['B']))                                   # 43.9 ms\n",
    "%timeit np.vectorize(divide)(df['A'], df['B'])                                # 48.1 ms\n",
    "%timeit [divide(a, b) for a, b in zip(df['A'], df['B'])]                      # 49.4 ms\n",
    "%timeit [divide(a, b) for a, b in df[['A', 'B']].itertuples(index=False)]     # 112 ms\n",
    "%timeit df.apply(lambda row: divide(*row), axis=1, raw=True)                  # 760 ms\n",
    "%timeit df.apply(lambda row: divide(row['A'], row['B']), axis=1)              # 4.83 s\n",
    "%timeit [divide(row['A'], row['B']) for _, row in df[['A', 'B']].iterrows()]  # 11.6 s"
   ]
  }
 ],
 "metadata": {
  "kernelspec": {
   "display_name": "Python 3",
   "language": "python",
   "name": "python3"
  },
  "language_info": {
   "codemirror_mode": {
    "name": "ipython",
    "version": 3
   },
   "file_extension": ".py",
   "mimetype": "text/x-python",
   "name": "python",
   "nbconvert_exporter": "python",
   "pygments_lexer": "ipython3",
   "version": "3.8.3"
  }
 },
 "nbformat": 4,
 "nbformat_minor": 4
}
