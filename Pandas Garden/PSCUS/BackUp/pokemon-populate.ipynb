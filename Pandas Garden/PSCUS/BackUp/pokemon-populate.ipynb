{
 "cells": [
  {
   "cell_type": "code",
   "execution_count": 1,
   "metadata": {
    "scrolled": true
   },
   "outputs": [
    {
     "data": {
      "text/html": [
       "<div>\n",
       "<style scoped>\n",
       "    .dataframe tbody tr th:only-of-type {\n",
       "        vertical-align: middle;\n",
       "    }\n",
       "\n",
       "    .dataframe tbody tr th {\n",
       "        vertical-align: top;\n",
       "    }\n",
       "\n",
       "    .dataframe thead th {\n",
       "        text-align: right;\n",
       "    }\n",
       "</style>\n",
       "<table border=\"1\" class=\"dataframe\">\n",
       "  <thead>\n",
       "    <tr style=\"text-align: right;\">\n",
       "      <th></th>\n",
       "      <th>#</th>\n",
       "      <th>Name</th>\n",
       "      <th>Type 1</th>\n",
       "      <th>Type 2</th>\n",
       "      <th>HP</th>\n",
       "      <th>Attack</th>\n",
       "      <th>Defense</th>\n",
       "      <th>Sp. Atk</th>\n",
       "      <th>Sp. Def</th>\n",
       "      <th>Speed</th>\n",
       "      <th>Generation</th>\n",
       "      <th>Legendary</th>\n",
       "      <th>Total</th>\n",
       "    </tr>\n",
       "  </thead>\n",
       "  <tbody>\n",
       "  </tbody>\n",
       "</table>\n",
       "</div>"
      ],
      "text/plain": [
       "Empty DataFrame\n",
       "Columns: [#, Name, Type 1, Type 2, HP, Attack, Defense, Sp. Atk, Sp. Def, Speed, Generation, Legendary, Total]\n",
       "Index: []"
      ]
     },
     "execution_count": 1,
     "metadata": {},
     "output_type": "execute_result"
    }
   ],
   "source": [
    "import pandas as pd\n",
    "import numpy as np\n",
    "pokemonData = pd.read_csv('./pokemon_data.csv')\n",
    "#pokemonData=pd.read_excel('./pokemon_data.xlsx')\n",
    "#pokemonData=pd.read_csv('./pokemon_data.txt', encoding='latin-1', delimiter='\\t')\n",
    "#print(pokemonData)\n",
    "#pokemonData.tail(00000000000000000)\n",
    "pokemonData.columns[10:]\n",
    "#print(pokemonData.columns[1:])\n",
    "#pokemonData.values[13][1:]\n",
    "#pokemonData[\"Attack\"]\n",
    "#[i for i in pokemonData['Name']]\n",
    "# [ print(i[j],end=\" \") for i in pokemonData.values for j in range(len(i))]\n",
    "#print(len(pokemonData.iloc[1]))\n",
    "#[print(pokemonData.iloc[1][i]) for i in range(len(pokemonData.iloc[1]))]\n",
    "#for i in range(len(pokemonData.iloc[1])):\n",
    "#    print(pokemonData.iloc[1][i], end=\" \")\n",
    "#print(pokemonData.iloc[1])\n",
    "#pokemonData[\"Name\"]\n",
    "# for i in pokemonData.head(0):\n",
    "#     print(i,end=\" \")\n",
    "\n",
    "\n",
    "\n",
    "# for i in pokemonData.values:\n",
    "#     if i[1]== \"BlastoiseMega Blastoise\":\n",
    "#         for j in i:\n",
    "#             print(j)\n",
    "# a=[ i for i in pokemonData[\"HP\"] > 60]\n",
    "# for i in pokemonData.values:\n",
    "#     if \n",
    "pokemonData1 = pokemonData.copy()\n",
    "pokemonData1['Speed'] = pokemonData1['Speed'].astype(float)\n",
    "pokemonData1.head(0)\n"
   ]
  },
  {
   "cell_type": "code",
   "execution_count": 19,
   "metadata": {},
   "outputs": [
    {
     "data": {
      "text/html": [
       "<div>\n",
       "<style scoped>\n",
       "    .dataframe tbody tr th:only-of-type {\n",
       "        vertical-align: middle;\n",
       "    }\n",
       "\n",
       "    .dataframe tbody tr th {\n",
       "        vertical-align: top;\n",
       "    }\n",
       "\n",
       "    .dataframe thead th {\n",
       "        text-align: right;\n",
       "    }\n",
       "</style>\n",
       "<table border=\"1\" class=\"dataframe\">\n",
       "  <thead>\n",
       "    <tr style=\"text-align: right;\">\n",
       "      <th></th>\n",
       "      <th>#</th>\n",
       "      <th>Name</th>\n",
       "      <th>Type 1</th>\n",
       "      <th>Type 2</th>\n",
       "      <th>HP</th>\n",
       "      <th>Attack</th>\n",
       "      <th>Defense</th>\n",
       "      <th>Sp. Atk</th>\n",
       "      <th>Sp. Def</th>\n",
       "      <th>Speed</th>\n",
       "      <th>Generation</th>\n",
       "      <th>Legendary</th>\n",
       "      <th>Total</th>\n",
       "    </tr>\n",
       "  </thead>\n",
       "  <tbody>\n",
       "    <tr>\n",
       "      <th>1</th>\n",
       "      <td>2</td>\n",
       "      <td>Ivysaur</td>\n",
       "      <td>Grass</td>\n",
       "      <td>Poison</td>\n",
       "      <td>60</td>\n",
       "      <td>62</td>\n",
       "      <td>63</td>\n",
       "      <td>80</td>\n",
       "      <td>80</td>\n",
       "      <td>60</td>\n",
       "      <td>1</td>\n",
       "      <td>False</td>\n",
       "      <td>405</td>\n",
       "    </tr>\n",
       "    <tr>\n",
       "      <th>2</th>\n",
       "      <td>3</td>\n",
       "      <td>Venusaur</td>\n",
       "      <td>Grass</td>\n",
       "      <td>Poison</td>\n",
       "      <td>80</td>\n",
       "      <td>82</td>\n",
       "      <td>83</td>\n",
       "      <td>100</td>\n",
       "      <td>100</td>\n",
       "      <td>80</td>\n",
       "      <td>1</td>\n",
       "      <td>False</td>\n",
       "      <td>525</td>\n",
       "    </tr>\n",
       "    <tr>\n",
       "      <th>3</th>\n",
       "      <td>3</td>\n",
       "      <td>VenusaurMega Venusaur</td>\n",
       "      <td>Grass</td>\n",
       "      <td>Poison</td>\n",
       "      <td>80</td>\n",
       "      <td>100</td>\n",
       "      <td>123</td>\n",
       "      <td>122</td>\n",
       "      <td>120</td>\n",
       "      <td>80</td>\n",
       "      <td>1</td>\n",
       "      <td>False</td>\n",
       "      <td>625</td>\n",
       "    </tr>\n",
       "    <tr>\n",
       "      <th>6</th>\n",
       "      <td>6</td>\n",
       "      <td>Charizard</td>\n",
       "      <td>Fire</td>\n",
       "      <td>Flying</td>\n",
       "      <td>78</td>\n",
       "      <td>84</td>\n",
       "      <td>78</td>\n",
       "      <td>109</td>\n",
       "      <td>85</td>\n",
       "      <td>100</td>\n",
       "      <td>1</td>\n",
       "      <td>False</td>\n",
       "      <td>534</td>\n",
       "    </tr>\n",
       "    <tr>\n",
       "      <th>7</th>\n",
       "      <td>6</td>\n",
       "      <td>CharizardMega Charizard X</td>\n",
       "      <td>Fire</td>\n",
       "      <td>Dragon</td>\n",
       "      <td>78</td>\n",
       "      <td>130</td>\n",
       "      <td>111</td>\n",
       "      <td>130</td>\n",
       "      <td>85</td>\n",
       "      <td>100</td>\n",
       "      <td>1</td>\n",
       "      <td>False</td>\n",
       "      <td>634</td>\n",
       "    </tr>\n",
       "    <tr>\n",
       "      <th>...</th>\n",
       "      <td>...</td>\n",
       "      <td>...</td>\n",
       "      <td>...</td>\n",
       "      <td>...</td>\n",
       "      <td>...</td>\n",
       "      <td>...</td>\n",
       "      <td>...</td>\n",
       "      <td>...</td>\n",
       "      <td>...</td>\n",
       "      <td>...</td>\n",
       "      <td>...</td>\n",
       "      <td>...</td>\n",
       "      <td>...</td>\n",
       "    </tr>\n",
       "    <tr>\n",
       "      <th>793</th>\n",
       "      <td>717</td>\n",
       "      <td>Yveltal</td>\n",
       "      <td>Dark</td>\n",
       "      <td>Flying</td>\n",
       "      <td>126</td>\n",
       "      <td>131</td>\n",
       "      <td>95</td>\n",
       "      <td>131</td>\n",
       "      <td>98</td>\n",
       "      <td>99</td>\n",
       "      <td>6</td>\n",
       "      <td>True</td>\n",
       "      <td>680</td>\n",
       "    </tr>\n",
       "    <tr>\n",
       "      <th>794</th>\n",
       "      <td>718</td>\n",
       "      <td>Zygarde50% Forme</td>\n",
       "      <td>Dragon</td>\n",
       "      <td>Ground</td>\n",
       "      <td>108</td>\n",
       "      <td>100</td>\n",
       "      <td>121</td>\n",
       "      <td>81</td>\n",
       "      <td>95</td>\n",
       "      <td>95</td>\n",
       "      <td>6</td>\n",
       "      <td>True</td>\n",
       "      <td>600</td>\n",
       "    </tr>\n",
       "    <tr>\n",
       "      <th>797</th>\n",
       "      <td>720</td>\n",
       "      <td>HoopaHoopa Confined</td>\n",
       "      <td>Psychic</td>\n",
       "      <td>Ghost</td>\n",
       "      <td>80</td>\n",
       "      <td>110</td>\n",
       "      <td>60</td>\n",
       "      <td>150</td>\n",
       "      <td>130</td>\n",
       "      <td>70</td>\n",
       "      <td>6</td>\n",
       "      <td>True</td>\n",
       "      <td>600</td>\n",
       "    </tr>\n",
       "    <tr>\n",
       "      <th>798</th>\n",
       "      <td>720</td>\n",
       "      <td>HoopaHoopa Unbound</td>\n",
       "      <td>Psychic</td>\n",
       "      <td>Dark</td>\n",
       "      <td>80</td>\n",
       "      <td>160</td>\n",
       "      <td>60</td>\n",
       "      <td>170</td>\n",
       "      <td>130</td>\n",
       "      <td>80</td>\n",
       "      <td>6</td>\n",
       "      <td>True</td>\n",
       "      <td>680</td>\n",
       "    </tr>\n",
       "    <tr>\n",
       "      <th>799</th>\n",
       "      <td>721</td>\n",
       "      <td>Volcanion</td>\n",
       "      <td>Fire</td>\n",
       "      <td>Water</td>\n",
       "      <td>80</td>\n",
       "      <td>110</td>\n",
       "      <td>120</td>\n",
       "      <td>130</td>\n",
       "      <td>90</td>\n",
       "      <td>70</td>\n",
       "      <td>6</td>\n",
       "      <td>True</td>\n",
       "      <td>600</td>\n",
       "    </tr>\n",
       "  </tbody>\n",
       "</table>\n",
       "<p>365 rows × 13 columns</p>\n",
       "</div>"
      ],
      "text/plain": [
       "       #                       Name   Type 1  Type 2   HP  Attack  Defense  \\\n",
       "1      2                    Ivysaur    Grass  Poison   60      62       63   \n",
       "2      3                   Venusaur    Grass  Poison   80      82       83   \n",
       "3      3      VenusaurMega Venusaur    Grass  Poison   80     100      123   \n",
       "6      6                  Charizard     Fire  Flying   78      84       78   \n",
       "7      6  CharizardMega Charizard X     Fire  Dragon   78     130      111   \n",
       "..   ...                        ...      ...     ...  ...     ...      ...   \n",
       "793  717                    Yveltal     Dark  Flying  126     131       95   \n",
       "794  718           Zygarde50% Forme   Dragon  Ground  108     100      121   \n",
       "797  720        HoopaHoopa Confined  Psychic   Ghost   80     110       60   \n",
       "798  720         HoopaHoopa Unbound  Psychic    Dark   80     160       60   \n",
       "799  721                  Volcanion     Fire   Water   80     110      120   \n",
       "\n",
       "     Sp. Atk  Sp. Def  Speed  Generation  Legendary  Total  \n",
       "1         80       80     60           1      False    405  \n",
       "2        100      100     80           1      False    525  \n",
       "3        122      120     80           1      False    625  \n",
       "6        109       85    100           1      False    534  \n",
       "7        130       85    100           1      False    634  \n",
       "..       ...      ...    ...         ...        ...    ...  \n",
       "793      131       98     99           6       True    680  \n",
       "794       81       95     95           6       True    600  \n",
       "797      150      130     70           6       True    600  \n",
       "798      170      130     80           6       True    680  \n",
       "799      130       90     70           6       True    600  \n",
       "\n",
       "[365 rows x 13 columns]"
      ]
     },
     "execution_count": 19,
     "metadata": {},
     "output_type": "execute_result"
    }
   ],
   "source": [
    "pokemonData[[\"Name\", \"Type 1\", \"Type 2\"]]\n",
    "pokemonData.columns\n",
    "pokemonData.dropna(inplace=True)\n",
    "\n",
    "#pokemonDataNone = pokemonData[pokemonData[\"Name\"]] \n",
    "#pokemonDataNone\n",
    "pokemonData[(pokemonData[\"Name\"] != \"None\") & (pokemonData[\"HP\"] != 45) & (pokemonData[\"Type 1\"] != \"Rock\")]"
   ]
  },
  {
   "cell_type": "code",
   "execution_count": 15,
   "metadata": {},
   "outputs": [
    {
     "data": {
      "text/html": [
       "<div>\n",
       "<style scoped>\n",
       "    .dataframe tbody tr th:only-of-type {\n",
       "        vertical-align: middle;\n",
       "    }\n",
       "\n",
       "    .dataframe tbody tr th {\n",
       "        vertical-align: top;\n",
       "    }\n",
       "\n",
       "    .dataframe thead th {\n",
       "        text-align: right;\n",
       "    }\n",
       "</style>\n",
       "<table border=\"1\" class=\"dataframe\">\n",
       "  <thead>\n",
       "    <tr style=\"text-align: right;\">\n",
       "      <th></th>\n",
       "      <th>#</th>\n",
       "      <th>Name</th>\n",
       "      <th>Type 1</th>\n",
       "      <th>Type 2</th>\n",
       "      <th>HP</th>\n",
       "      <th>Attack</th>\n",
       "      <th>Defense</th>\n",
       "      <th>Sp. Atk</th>\n",
       "      <th>Sp. Def</th>\n",
       "      <th>Speed</th>\n",
       "      <th>Generation</th>\n",
       "      <th>Legendary</th>\n",
       "      <th>Total</th>\n",
       "    </tr>\n",
       "  </thead>\n",
       "  <tbody>\n",
       "    <tr>\n",
       "      <th>0</th>\n",
       "      <td>1</td>\n",
       "      <td>Bulbasaur</td>\n",
       "      <td>Grass</td>\n",
       "      <td>Poison</td>\n",
       "      <td>45</td>\n",
       "      <td>49</td>\n",
       "      <td>49</td>\n",
       "      <td>65</td>\n",
       "      <td>65</td>\n",
       "      <td>45</td>\n",
       "      <td>1</td>\n",
       "      <td>False</td>\n",
       "      <td>318</td>\n",
       "    </tr>\n",
       "    <tr>\n",
       "      <th>1</th>\n",
       "      <td>2</td>\n",
       "      <td>Ivysaur</td>\n",
       "      <td>Grass</td>\n",
       "      <td>Poison</td>\n",
       "      <td>60</td>\n",
       "      <td>62</td>\n",
       "      <td>63</td>\n",
       "      <td>80</td>\n",
       "      <td>80</td>\n",
       "      <td>60</td>\n",
       "      <td>1</td>\n",
       "      <td>False</td>\n",
       "      <td>405</td>\n",
       "    </tr>\n",
       "    <tr>\n",
       "      <th>2</th>\n",
       "      <td>3</td>\n",
       "      <td>Venusaur</td>\n",
       "      <td>Grass</td>\n",
       "      <td>Poison</td>\n",
       "      <td>80</td>\n",
       "      <td>82</td>\n",
       "      <td>83</td>\n",
       "      <td>100</td>\n",
       "      <td>100</td>\n",
       "      <td>80</td>\n",
       "      <td>1</td>\n",
       "      <td>False</td>\n",
       "      <td>525</td>\n",
       "    </tr>\n",
       "    <tr>\n",
       "      <th>3</th>\n",
       "      <td>3</td>\n",
       "      <td>VenusaurMega Venusaur</td>\n",
       "      <td>Grass</td>\n",
       "      <td>Poison</td>\n",
       "      <td>80</td>\n",
       "      <td>100</td>\n",
       "      <td>123</td>\n",
       "      <td>122</td>\n",
       "      <td>120</td>\n",
       "      <td>80</td>\n",
       "      <td>1</td>\n",
       "      <td>False</td>\n",
       "      <td>625</td>\n",
       "    </tr>\n",
       "    <tr>\n",
       "      <th>4</th>\n",
       "      <td>4</td>\n",
       "      <td>Charmander</td>\n",
       "      <td>Fire</td>\n",
       "      <td>NaN</td>\n",
       "      <td>39</td>\n",
       "      <td>52</td>\n",
       "      <td>43</td>\n",
       "      <td>60</td>\n",
       "      <td>50</td>\n",
       "      <td>65</td>\n",
       "      <td>1</td>\n",
       "      <td>False</td>\n",
       "      <td>309</td>\n",
       "    </tr>\n",
       "    <tr>\n",
       "      <th>...</th>\n",
       "      <td>...</td>\n",
       "      <td>...</td>\n",
       "      <td>...</td>\n",
       "      <td>...</td>\n",
       "      <td>...</td>\n",
       "      <td>...</td>\n",
       "      <td>...</td>\n",
       "      <td>...</td>\n",
       "      <td>...</td>\n",
       "      <td>...</td>\n",
       "      <td>...</td>\n",
       "      <td>...</td>\n",
       "      <td>...</td>\n",
       "    </tr>\n",
       "    <tr>\n",
       "      <th>795</th>\n",
       "      <td>719</td>\n",
       "      <td>Diancie</td>\n",
       "      <td>Rock</td>\n",
       "      <td>Fairy</td>\n",
       "      <td>50</td>\n",
       "      <td>100</td>\n",
       "      <td>150</td>\n",
       "      <td>100</td>\n",
       "      <td>150</td>\n",
       "      <td>50</td>\n",
       "      <td>6</td>\n",
       "      <td>True</td>\n",
       "      <td>600</td>\n",
       "    </tr>\n",
       "    <tr>\n",
       "      <th>796</th>\n",
       "      <td>719</td>\n",
       "      <td>DiancieMega Diancie</td>\n",
       "      <td>Rock</td>\n",
       "      <td>Fairy</td>\n",
       "      <td>50</td>\n",
       "      <td>160</td>\n",
       "      <td>110</td>\n",
       "      <td>160</td>\n",
       "      <td>110</td>\n",
       "      <td>110</td>\n",
       "      <td>6</td>\n",
       "      <td>True</td>\n",
       "      <td>700</td>\n",
       "    </tr>\n",
       "    <tr>\n",
       "      <th>797</th>\n",
       "      <td>720</td>\n",
       "      <td>HoopaHoopa Confined</td>\n",
       "      <td>Psychic</td>\n",
       "      <td>Ghost</td>\n",
       "      <td>80</td>\n",
       "      <td>110</td>\n",
       "      <td>60</td>\n",
       "      <td>150</td>\n",
       "      <td>130</td>\n",
       "      <td>70</td>\n",
       "      <td>6</td>\n",
       "      <td>True</td>\n",
       "      <td>600</td>\n",
       "    </tr>\n",
       "    <tr>\n",
       "      <th>798</th>\n",
       "      <td>720</td>\n",
       "      <td>HoopaHoopa Unbound</td>\n",
       "      <td>Psychic</td>\n",
       "      <td>Dark</td>\n",
       "      <td>80</td>\n",
       "      <td>160</td>\n",
       "      <td>60</td>\n",
       "      <td>170</td>\n",
       "      <td>130</td>\n",
       "      <td>80</td>\n",
       "      <td>6</td>\n",
       "      <td>True</td>\n",
       "      <td>680</td>\n",
       "    </tr>\n",
       "    <tr>\n",
       "      <th>799</th>\n",
       "      <td>721</td>\n",
       "      <td>Volcanion</td>\n",
       "      <td>Fire</td>\n",
       "      <td>Water</td>\n",
       "      <td>80</td>\n",
       "      <td>110</td>\n",
       "      <td>120</td>\n",
       "      <td>130</td>\n",
       "      <td>90</td>\n",
       "      <td>70</td>\n",
       "      <td>6</td>\n",
       "      <td>True</td>\n",
       "      <td>600</td>\n",
       "    </tr>\n",
       "  </tbody>\n",
       "</table>\n",
       "<p>800 rows × 13 columns</p>\n",
       "</div>"
      ],
      "text/plain": [
       "       #                   Name   Type 1  Type 2  HP  Attack  Defense  \\\n",
       "0      1              Bulbasaur    Grass  Poison  45      49       49   \n",
       "1      2                Ivysaur    Grass  Poison  60      62       63   \n",
       "2      3               Venusaur    Grass  Poison  80      82       83   \n",
       "3      3  VenusaurMega Venusaur    Grass  Poison  80     100      123   \n",
       "4      4             Charmander     Fire     NaN  39      52       43   \n",
       "..   ...                    ...      ...     ...  ..     ...      ...   \n",
       "795  719                Diancie     Rock   Fairy  50     100      150   \n",
       "796  719    DiancieMega Diancie     Rock   Fairy  50     160      110   \n",
       "797  720    HoopaHoopa Confined  Psychic   Ghost  80     110       60   \n",
       "798  720     HoopaHoopa Unbound  Psychic    Dark  80     160       60   \n",
       "799  721              Volcanion     Fire   Water  80     110      120   \n",
       "\n",
       "     Sp. Atk  Sp. Def  Speed  Generation  Legendary  Total  \n",
       "0         65       65     45           1      False    318  \n",
       "1         80       80     60           1      False    405  \n",
       "2        100      100     80           1      False    525  \n",
       "3        122      120     80           1      False    625  \n",
       "4         60       50     65           1      False    309  \n",
       "..       ...      ...    ...         ...        ...    ...  \n",
       "795      100      150     50           6       True    600  \n",
       "796      160      110    110           6       True    700  \n",
       "797      150      130     70           6       True    600  \n",
       "798      170      130     80           6       True    680  \n",
       "799      130       90     70           6       True    600  \n",
       "\n",
       "[800 rows x 13 columns]"
      ]
     },
     "execution_count": 15,
     "metadata": {},
     "output_type": "execute_result"
    }
   ],
   "source": [
    "\n",
    "\n",
    "#index_list = pokemonData[\"Type 1\"].str.rfind(\"ss\") # replace(\"ss\", \"ss.\")\n",
    "#index_list\n",
    "def fun(my_list):\n",
    "    for word in my_list:\n",
    "        index = word.rfind(\".\")\n",
    "        # if index >= 0:\n",
    "            \n",
    "poke_list = pokemonData[\"Type 1\"]\n",
    "fun(poke_list)\n",
    "\n",
    "\n",
    "pokemonData[\"Type 1\"] = pokemonData[\"Type 1\"].str.replace(\"[.]$\", \"\", regex=True)\n",
    "# [.]$\n",
    "pokemonData"
   ]
  },
  {
   "cell_type": "code",
   "execution_count": 2,
   "metadata": {},
   "outputs": [
    {
     "ename": "EmptyDataError",
     "evalue": "No columns to parse from file",
     "output_type": "error",
     "traceback": [
      "\u001b[1;31m---------------------------------------------------------------------------\u001b[0m",
      "\u001b[1;31mEmptyDataError\u001b[0m                            Traceback (most recent call last)",
      "\u001b[1;32m<ipython-input-2-3ac66725948b>\u001b[0m in \u001b[0;36m<module>\u001b[1;34m\u001b[0m\n\u001b[1;32m----> 1\u001b[1;33m \u001b[0mdf\u001b[0m \u001b[1;33m=\u001b[0m \u001b[0mpd\u001b[0m\u001b[1;33m.\u001b[0m\u001b[0mread_csv\u001b[0m\u001b[1;33m(\u001b[0m\u001b[1;34m'def.csv'\u001b[0m\u001b[1;33m)\u001b[0m\u001b[1;33m\u001b[0m\u001b[1;33m\u001b[0m\u001b[0m\n\u001b[0m\u001b[0;32m      2\u001b[0m \u001b[1;32mif\u001b[0m\u001b[1;33m(\u001b[0m\u001b[0mdf\u001b[0m\u001b[1;33m.\u001b[0m\u001b[0mempty\u001b[0m\u001b[1;33m)\u001b[0m\u001b[1;33m:\u001b[0m\u001b[1;33m\u001b[0m\u001b[1;33m\u001b[0m\u001b[0m\n\u001b[0;32m      3\u001b[0m     \u001b[0mprint\u001b[0m \u001b[1;33m(\u001b[0m\u001b[1;34m'CSV file is empty'\u001b[0m\u001b[1;33m)\u001b[0m\u001b[1;33m\u001b[0m\u001b[1;33m\u001b[0m\u001b[0m\n\u001b[0;32m      4\u001b[0m \u001b[1;32melse\u001b[0m\u001b[1;33m:\u001b[0m\u001b[1;33m\u001b[0m\u001b[1;33m\u001b[0m\u001b[0m\n\u001b[0;32m      5\u001b[0m     \u001b[0mprint\u001b[0m \u001b[1;33m(\u001b[0m\u001b[1;34m'CSV file is not empty'\u001b[0m\u001b[1;33m)\u001b[0m\u001b[1;33m\u001b[0m\u001b[1;33m\u001b[0m\u001b[0m\n",
      "\u001b[1;32m~\\anaconda3\\lib\\site-packages\\pandas\\io\\parsers.py\u001b[0m in \u001b[0;36mparser_f\u001b[1;34m(filepath_or_buffer, sep, delimiter, header, names, index_col, usecols, squeeze, prefix, mangle_dupe_cols, dtype, engine, converters, true_values, false_values, skipinitialspace, skiprows, skipfooter, nrows, na_values, keep_default_na, na_filter, verbose, skip_blank_lines, parse_dates, infer_datetime_format, keep_date_col, date_parser, dayfirst, cache_dates, iterator, chunksize, compression, thousands, decimal, lineterminator, quotechar, quoting, doublequote, escapechar, comment, encoding, dialect, error_bad_lines, warn_bad_lines, delim_whitespace, low_memory, memory_map, float_precision)\u001b[0m\n\u001b[0;32m    674\u001b[0m         )\n\u001b[0;32m    675\u001b[0m \u001b[1;33m\u001b[0m\u001b[0m\n\u001b[1;32m--> 676\u001b[1;33m         \u001b[1;32mreturn\u001b[0m \u001b[0m_read\u001b[0m\u001b[1;33m(\u001b[0m\u001b[0mfilepath_or_buffer\u001b[0m\u001b[1;33m,\u001b[0m \u001b[0mkwds\u001b[0m\u001b[1;33m)\u001b[0m\u001b[1;33m\u001b[0m\u001b[1;33m\u001b[0m\u001b[0m\n\u001b[0m\u001b[0;32m    677\u001b[0m \u001b[1;33m\u001b[0m\u001b[0m\n\u001b[0;32m    678\u001b[0m     \u001b[0mparser_f\u001b[0m\u001b[1;33m.\u001b[0m\u001b[0m__name__\u001b[0m \u001b[1;33m=\u001b[0m \u001b[0mname\u001b[0m\u001b[1;33m\u001b[0m\u001b[1;33m\u001b[0m\u001b[0m\n",
      "\u001b[1;32m~\\anaconda3\\lib\\site-packages\\pandas\\io\\parsers.py\u001b[0m in \u001b[0;36m_read\u001b[1;34m(filepath_or_buffer, kwds)\u001b[0m\n\u001b[0;32m    446\u001b[0m \u001b[1;33m\u001b[0m\u001b[0m\n\u001b[0;32m    447\u001b[0m     \u001b[1;31m# Create the parser.\u001b[0m\u001b[1;33m\u001b[0m\u001b[1;33m\u001b[0m\u001b[1;33m\u001b[0m\u001b[0m\n\u001b[1;32m--> 448\u001b[1;33m     \u001b[0mparser\u001b[0m \u001b[1;33m=\u001b[0m \u001b[0mTextFileReader\u001b[0m\u001b[1;33m(\u001b[0m\u001b[0mfp_or_buf\u001b[0m\u001b[1;33m,\u001b[0m \u001b[1;33m**\u001b[0m\u001b[0mkwds\u001b[0m\u001b[1;33m)\u001b[0m\u001b[1;33m\u001b[0m\u001b[1;33m\u001b[0m\u001b[0m\n\u001b[0m\u001b[0;32m    449\u001b[0m \u001b[1;33m\u001b[0m\u001b[0m\n\u001b[0;32m    450\u001b[0m     \u001b[1;32mif\u001b[0m \u001b[0mchunksize\u001b[0m \u001b[1;32mor\u001b[0m \u001b[0miterator\u001b[0m\u001b[1;33m:\u001b[0m\u001b[1;33m\u001b[0m\u001b[1;33m\u001b[0m\u001b[0m\n",
      "\u001b[1;32m~\\anaconda3\\lib\\site-packages\\pandas\\io\\parsers.py\u001b[0m in \u001b[0;36m__init__\u001b[1;34m(self, f, engine, **kwds)\u001b[0m\n\u001b[0;32m    878\u001b[0m             \u001b[0mself\u001b[0m\u001b[1;33m.\u001b[0m\u001b[0moptions\u001b[0m\u001b[1;33m[\u001b[0m\u001b[1;34m\"has_index_names\"\u001b[0m\u001b[1;33m]\u001b[0m \u001b[1;33m=\u001b[0m \u001b[0mkwds\u001b[0m\u001b[1;33m[\u001b[0m\u001b[1;34m\"has_index_names\"\u001b[0m\u001b[1;33m]\u001b[0m\u001b[1;33m\u001b[0m\u001b[1;33m\u001b[0m\u001b[0m\n\u001b[0;32m    879\u001b[0m \u001b[1;33m\u001b[0m\u001b[0m\n\u001b[1;32m--> 880\u001b[1;33m         \u001b[0mself\u001b[0m\u001b[1;33m.\u001b[0m\u001b[0m_make_engine\u001b[0m\u001b[1;33m(\u001b[0m\u001b[0mself\u001b[0m\u001b[1;33m.\u001b[0m\u001b[0mengine\u001b[0m\u001b[1;33m)\u001b[0m\u001b[1;33m\u001b[0m\u001b[1;33m\u001b[0m\u001b[0m\n\u001b[0m\u001b[0;32m    881\u001b[0m \u001b[1;33m\u001b[0m\u001b[0m\n\u001b[0;32m    882\u001b[0m     \u001b[1;32mdef\u001b[0m \u001b[0mclose\u001b[0m\u001b[1;33m(\u001b[0m\u001b[0mself\u001b[0m\u001b[1;33m)\u001b[0m\u001b[1;33m:\u001b[0m\u001b[1;33m\u001b[0m\u001b[1;33m\u001b[0m\u001b[0m\n",
      "\u001b[1;32m~\\anaconda3\\lib\\site-packages\\pandas\\io\\parsers.py\u001b[0m in \u001b[0;36m_make_engine\u001b[1;34m(self, engine)\u001b[0m\n\u001b[0;32m   1112\u001b[0m     \u001b[1;32mdef\u001b[0m \u001b[0m_make_engine\u001b[0m\u001b[1;33m(\u001b[0m\u001b[0mself\u001b[0m\u001b[1;33m,\u001b[0m \u001b[0mengine\u001b[0m\u001b[1;33m=\u001b[0m\u001b[1;34m\"c\"\u001b[0m\u001b[1;33m)\u001b[0m\u001b[1;33m:\u001b[0m\u001b[1;33m\u001b[0m\u001b[1;33m\u001b[0m\u001b[0m\n\u001b[0;32m   1113\u001b[0m         \u001b[1;32mif\u001b[0m \u001b[0mengine\u001b[0m \u001b[1;33m==\u001b[0m \u001b[1;34m\"c\"\u001b[0m\u001b[1;33m:\u001b[0m\u001b[1;33m\u001b[0m\u001b[1;33m\u001b[0m\u001b[0m\n\u001b[1;32m-> 1114\u001b[1;33m             \u001b[0mself\u001b[0m\u001b[1;33m.\u001b[0m\u001b[0m_engine\u001b[0m \u001b[1;33m=\u001b[0m \u001b[0mCParserWrapper\u001b[0m\u001b[1;33m(\u001b[0m\u001b[0mself\u001b[0m\u001b[1;33m.\u001b[0m\u001b[0mf\u001b[0m\u001b[1;33m,\u001b[0m \u001b[1;33m**\u001b[0m\u001b[0mself\u001b[0m\u001b[1;33m.\u001b[0m\u001b[0moptions\u001b[0m\u001b[1;33m)\u001b[0m\u001b[1;33m\u001b[0m\u001b[1;33m\u001b[0m\u001b[0m\n\u001b[0m\u001b[0;32m   1115\u001b[0m         \u001b[1;32melse\u001b[0m\u001b[1;33m:\u001b[0m\u001b[1;33m\u001b[0m\u001b[1;33m\u001b[0m\u001b[0m\n\u001b[0;32m   1116\u001b[0m             \u001b[1;32mif\u001b[0m \u001b[0mengine\u001b[0m \u001b[1;33m==\u001b[0m \u001b[1;34m\"python\"\u001b[0m\u001b[1;33m:\u001b[0m\u001b[1;33m\u001b[0m\u001b[1;33m\u001b[0m\u001b[0m\n",
      "\u001b[1;32m~\\anaconda3\\lib\\site-packages\\pandas\\io\\parsers.py\u001b[0m in \u001b[0;36m__init__\u001b[1;34m(self, src, **kwds)\u001b[0m\n\u001b[0;32m   1889\u001b[0m         \u001b[0mkwds\u001b[0m\u001b[1;33m[\u001b[0m\u001b[1;34m\"usecols\"\u001b[0m\u001b[1;33m]\u001b[0m \u001b[1;33m=\u001b[0m \u001b[0mself\u001b[0m\u001b[1;33m.\u001b[0m\u001b[0musecols\u001b[0m\u001b[1;33m\u001b[0m\u001b[1;33m\u001b[0m\u001b[0m\n\u001b[0;32m   1890\u001b[0m \u001b[1;33m\u001b[0m\u001b[0m\n\u001b[1;32m-> 1891\u001b[1;33m         \u001b[0mself\u001b[0m\u001b[1;33m.\u001b[0m\u001b[0m_reader\u001b[0m \u001b[1;33m=\u001b[0m \u001b[0mparsers\u001b[0m\u001b[1;33m.\u001b[0m\u001b[0mTextReader\u001b[0m\u001b[1;33m(\u001b[0m\u001b[0msrc\u001b[0m\u001b[1;33m,\u001b[0m \u001b[1;33m**\u001b[0m\u001b[0mkwds\u001b[0m\u001b[1;33m)\u001b[0m\u001b[1;33m\u001b[0m\u001b[1;33m\u001b[0m\u001b[0m\n\u001b[0m\u001b[0;32m   1892\u001b[0m         \u001b[0mself\u001b[0m\u001b[1;33m.\u001b[0m\u001b[0munnamed_cols\u001b[0m \u001b[1;33m=\u001b[0m \u001b[0mself\u001b[0m\u001b[1;33m.\u001b[0m\u001b[0m_reader\u001b[0m\u001b[1;33m.\u001b[0m\u001b[0munnamed_cols\u001b[0m\u001b[1;33m\u001b[0m\u001b[1;33m\u001b[0m\u001b[0m\n\u001b[0;32m   1893\u001b[0m \u001b[1;33m\u001b[0m\u001b[0m\n",
      "\u001b[1;32mpandas\\_libs\\parsers.pyx\u001b[0m in \u001b[0;36mpandas._libs.parsers.TextReader.__cinit__\u001b[1;34m()\u001b[0m\n",
      "\u001b[1;31mEmptyDataError\u001b[0m: No columns to parse from file"
     ]
    }
   ],
   "source": [
    "df = pd.read_csv('def.csv')\n",
    "if(df.empty):\n",
    "    print ('CSV file is empty')\n",
    "else:\n",
    "    print ('CSV file is not empty')"
   ]
  },
  {
   "cell_type": "code",
   "execution_count": null,
   "metadata": {},
   "outputs": [],
   "source": [
    "p=list(pokemonData['Name'])\n",
    "##### REPLACE #######\n",
    "#pokemonData1['Type 1'] = pokemonData1['Type 1'].str.strip().str.replace('G', \"_\").str.replace('F', \"*****\").str.replace('R', \"|||\")\n",
    "#print(\"Before\", pokemonData1['Type 2'].isnull().sum())\n",
    "#pokemonData1['Type 2'].fillna('Unknown', inplace=True)\n",
    "#print(\"After\", pokemonData1['Type 2'].isnull().sum())\n",
    "# pokemonData1['Attack'] = pokemonData1[pokemonData1['Attack']==110] = np.nan\n",
    "#pokemonData1[pokemonData1[\"Type 2\", \"Name\"].notnull()]\n",
    "pokemonData1\n",
    "pokemonData1['Type 2'].isna().sum() \n",
    "pokemonData['Type 1'].unique()\n",
    "pokemonData[pokemonData['Type 1'] == 'Water']\n",
    "a=pokemonData[pokemonData['Name'] == 'Squirtle']\n",
    "\n",
    "name = str(a.Name.to_string())\n",
    "name"
   ]
  },
  {
   "cell_type": "markdown",
   "metadata": {},
   "source": [
    "### Type Conversion"
   ]
  },
  {
   "cell_type": "code",
   "execution_count": null,
   "metadata": {},
   "outputs": [],
   "source": [
    "pokemonData2 = pokemonData1.rename(columns={'Type 2':'Type_2'})\n",
    "\n",
    "\n",
    "\n",
    "def isNaN(string):\n",
    "    return string != string\n",
    "i=0\n",
    "for index, row in enumerate(pokemonData2.itertuples(index=False), 1):\n",
    "    if not isNaN(row.Type_2):\n",
    "        print(index, row.Type_2)\n",
    "        i+=1\n",
    "print(i)"
   ]
  },
  {
   "cell_type": "code",
   "execution_count": null,
   "metadata": {},
   "outputs": [],
   "source": []
  },
  {
   "cell_type": "markdown",
   "metadata": {},
   "source": [
    "#### SPLITING  STRING rPartition########"
   ]
  },
  {
   "cell_type": "code",
   "execution_count": null,
   "metadata": {},
   "outputs": [],
   "source": [
    "# pokemonData1[\"New\"] = pokemonData1[\"Name\"].str.replace(\" \",\"_\")\n",
    "# pokemonData1[\"New\"] = pokemonData1[\"Name\"].str.rpartition(\" \", expand=False)\n",
    "# pokemonData1[\"New\"] = pokemonData1[\"Name\"].str.rsplit(pat=' ', expand=False)\n",
    "# pokemonData1[\"New\"] = pokemonData1[\"Name\"].str.rfind(\" \")\n",
    "#pokemonData1[\"New\"] = pokemonData1[\n",
    "pokemonData1[\"New\"]\n",
    "#pokemonData1\n",
    "#pokemonData1[\"Name\"].str\n",
    "\n",
    "pokemonData1[\"New\"] = pokemonData1[pokemonData1[\"Name\"].str.split(' ')]\n",
    "\n",
    "pokemonData1"
   ]
  },
  {
   "cell_type": "code",
   "execution_count": null,
   "metadata": {},
   "outputs": [],
   "source": [
    "pokemonData\n",
    "pokemonData1\n",
    "pokemonData_df=pokemonData.add_prefix('st1_')\n",
    "pokemonData1_df=pokemonData1.add_prefix('st2_')\n",
    "left = ['st1_#', 'st1_Name', 'st1_Type 1', 'st1_Type 2', 'st1_HP', 'st1_Attack', 'st1_Defense', 'st1_Sp. Atk',\n",
    "       'st1_Sp. Def', 'st1_Speed', 'st1_Generation', 'st1_Legendary', 'st1_Total']\n",
    "\n",
    "right = ['st2_#', 'st_Name', 'st2_Type 1', 'st2_Type 2', 'st2_HP', 'st2_Attack', 'st2_Defense', 'st2_Sp. Atk',\n",
    "       'st2_Sp. Def', 'st2_Speed', 'st2_Generation', 'st2_Legendary', 'st2_Total']\n",
    "\n",
    "\n",
    "merged_pokemonData_df = pokemonData_df.merge(pokemonData1_df, left_on=['st1_accountnum', 'st1_accounttype', 'st1_balance'], \n",
    "                     right_on=['st2_accountnum', 'st2_accounttype', 'st2_balance'], how='outer' )\n",
    "\n",
    "def filter_data(df):\n",
    "    if df['st1_accountnum'] == df['st2_accountnum'] and df['st1_accounttype'] == df['st2_accounttype'] and df['st1_balance'] ==  df['st2_balance']:\n",
    "        return 1\n",
    "    else:\n",
    "        return 0\n",
    "\n",
    "merged_statements_df['compare'] = merged_statements_df.apply(filter_data, axis=1)    \n",
    "    \n",
    "    \n",
    "not_equal = merged_statements_df[merged_statements_df[\"compare\"] == 0]  \n",
    "equal = merged_statements_df[merged_statements_df[\"compare\"] == 1]\n",
    "\n",
    "\n",
    "\n",
    "pokemonData.merge(pokemonData1, left_on='Name', right_on='')\n",
    "\n",
    "\"\"\"\n",
    "pokemonData.merge(\n",
    "        sub_pokemonData[pokemonData.Legendary == False], \n",
    "        left_on=\"Name\",\n",
    "        right_on=\"Name\",\n",
    "        how=\"inner\"\n",
    ")\n",
    "\"\"\"\n",
    "pokemonData\n",
    "pokemonData1"
   ]
  },
  {
   "cell_type": "code",
   "execution_count": null,
   "metadata": {},
   "outputs": [],
   "source": []
  },
  {
   "cell_type": "code",
   "execution_count": null,
   "metadata": {},
   "outputs": [],
   "source": []
  },
  {
   "cell_type": "code",
   "execution_count": 3,
   "metadata": {},
   "outputs": [
    {
     "data": {
      "text/plain": [
       "0      False\n",
       "1      False\n",
       "2      False\n",
       "3      False\n",
       "4      False\n",
       "       ...  \n",
       "795    False\n",
       "796    False\n",
       "797     True\n",
       "798     True\n",
       "799    False\n",
       "Name: Type 1, Length: 800, dtype: bool"
      ]
     },
     "execution_count": 3,
     "metadata": {},
     "output_type": "execute_result"
    }
   ],
   "source": [
    "pokemonData[pokemonData[\"Type 2\"].notnull() & pokemonData[\"Legendary\"].notnull()].drop_duplicates(subset=[\"Type 2\"]) #[[\"Type 1\"]]\n",
    "\n",
    "pokemonData[pokemonData['Type 1'].str.contains('ps', na=False, case=False)]\n",
    "\n",
    "\n",
    "#pokemonData['Type 1'].str.contains('ps', na=False, case=False)\n",
    "\n",
    "#pokemonData[pokemonData['Name']=='Squirtle']\n",
    "\n",
    "# x = pd.DataFrame(columns = [\"A\", \"B\"]) \n",
    "# x = pd.DataFrame({\"A\":[1, 2, 3], \"B\":[5, 6, 7]}) \n",
    "# x\n",
    "\n"
   ]
  },
  {
   "cell_type": "code",
   "execution_count": null,
   "metadata": {},
   "outputs": [],
   "source": [
    "pokemonData.to_csv('modified1.csv')\n",
    "poke = pd.read_csv('./modified1.csv')\n",
    "poke"
   ]
  },
  {
   "cell_type": "code",
   "execution_count": null,
   "metadata": {},
   "outputs": [],
   "source": [
    "pok=pokemonData[1:6]\n",
    "pok"
   ]
  },
  {
   "cell_type": "code",
   "execution_count": null,
   "metadata": {
    "scrolled": true
   },
   "outputs": [],
   "source": [
    "# pok.to_csv(\"m.csv\", index=False)\n",
    "new_df = pokemonData.loc[(pokemonData['HP']>70) & (pokemonData[\"Type 1\"]==\"Water\") & (pokemonData[\"Legendary\"]==True)]\n",
    "new_df\n",
    "#new_df\n",
    "#df.loc[df['Type 1'].str.contains('fire|grass', flags=re.I,regex=True)]\n",
    "#pokemonData.iloc[1]\n",
    "pokemonData[0:5]"
   ]
  },
  {
   "cell_type": "code",
   "execution_count": null,
   "metadata": {},
   "outputs": [],
   "source": []
  },
  {
   "cell_type": "markdown",
   "metadata": {},
   "source": [
    "### MAKE DATAFRAME WITH SPECIFIED COLUMNS"
   ]
  },
  {
   "cell_type": "code",
   "execution_count": null,
   "metadata": {},
   "outputs": [],
   "source": [
    "specify1"
   ]
  },
  {
   "cell_type": "code",
   "execution_count": null,
   "metadata": {},
   "outputs": [],
   "source": []
  },
  {
   "cell_type": "code",
   "execution_count": null,
   "metadata": {},
   "outputs": [],
   "source": [
    "print(\"Python World\")"
   ]
  },
  {
   "cell_type": "markdown",
   "metadata": {},
   "source": [
    "### SQL Queries in Pandas Way"
   ]
  },
  {
   "cell_type": "markdown",
   "metadata": {},
   "source": [
    "### SELECT ALL"
   ]
  },
  {
   "cell_type": "code",
   "execution_count": null,
   "metadata": {
    "scrolled": false
   },
   "outputs": [],
   "source": [
    "# SELECT * from pokemonData;\n",
    "pokemonData"
   ]
  },
  {
   "cell_type": "code",
   "execution_count": null,
   "metadata": {},
   "outputs": [],
   "source": []
  },
  {
   "cell_type": "markdown",
   "metadata": {},
   "source": [
    "### SELECT LIMIT DATA"
   ]
  },
  {
   "cell_type": "code",
   "execution_count": null,
   "metadata": {
    "scrolled": false
   },
   "outputs": [],
   "source": [
    "# SELECT * from pokemonData LIMIT 7;\n",
    "pokemonData.head(7)"
   ]
  },
  {
   "cell_type": "code",
   "execution_count": null,
   "metadata": {},
   "outputs": [],
   "source": []
  },
  {
   "cell_type": "markdown",
   "metadata": {},
   "source": [
    "### SELECT WHERE CONDITION DATA & Required COLUMNS"
   ]
  },
  {
   "cell_type": "code",
   "execution_count": null,
   "metadata": {
    "scrolled": true
   },
   "outputs": [],
   "source": [
    "# SELECT #,Name FROM pokemonData WHERE Speed=16;\n",
    "# pokemonData[pokemonData.Speed == 10]\n",
    "#pokemonData[pokemonData.Speed == 10][\"#\"]  # For Single Column\n",
    "pokemonData[pokemonData.Speed == 90][[\"#\",\"Name\",\"Speed\",\"Type 1\"]] # For Multiple Columns\n"
   ]
  },
  {
   "cell_type": "code",
   "execution_count": null,
   "metadata": {},
   "outputs": [],
   "source": []
  },
  {
   "cell_type": "markdown",
   "metadata": {},
   "source": [
    "### SELECT DATA WITH MULTIPLE CONDITION"
   ]
  },
  {
   "cell_type": "code",
   "execution_count": null,
   "metadata": {},
   "outputs": [],
   "source": [
    "# SELECT * FROM pokemonData WHERE Speed=16 AND Attack=49;\n",
    "pokemonData[(pokemonData.Speed == 45) & (pokemonData.Attack == 49)]"
   ]
  },
  {
   "cell_type": "code",
   "execution_count": null,
   "metadata": {},
   "outputs": [],
   "source": []
  },
  {
   "cell_type": "markdown",
   "metadata": {},
   "source": [
    "### Aggrgation MEAN, MEDIAN, MAX, MIN"
   ]
  },
  {
   "cell_type": "code",
   "execution_count": null,
   "metadata": {},
   "outputs": [],
   "source": [
    "# SELECT mean(HP), max(HP), min(HP) FROM pokemonData;\n",
    "pokemonData.agg({\"HP\":['mean',\"median\",\"max\",\"min\"],\"Speed\":[\"mean\",\"median\",\"max\",\"min\"]})"
   ]
  },
  {
   "cell_type": "code",
   "execution_count": null,
   "metadata": {},
   "outputs": [],
   "source": []
  },
  {
   "cell_type": "markdown",
   "metadata": {},
   "source": [
    "### UNIQUE DATA BY COLUMN"
   ]
  },
  {
   "cell_type": "code",
   "execution_count": null,
   "metadata": {},
   "outputs": [],
   "source": [
    "# SELECT DISTINCT Speed FROM pokemonData;\n",
    "pokemonData.Speed.unique()"
   ]
  },
  {
   "cell_type": "code",
   "execution_count": null,
   "metadata": {},
   "outputs": [],
   "source": []
  },
  {
   "cell_type": "markdown",
   "metadata": {},
   "source": [
    "### SORT VALUES BY ASCE/ DESC ORDERS"
   ]
  },
  {
   "cell_type": "code",
   "execution_count": null,
   "metadata": {
    "scrolled": true
   },
   "outputs": [],
   "source": [
    "# SELECT * FROM pokemonData WHERE Legendary=\"False\" ORDER BY Speed ;\n",
    "pokemonData[pokemonData.Legendary == True].sort_values(\"Speed\", ascending=False)"
   ]
  },
  {
   "cell_type": "code",
   "execution_count": null,
   "metadata": {},
   "outputs": [],
   "source": []
  },
  {
   "cell_type": "markdown",
   "metadata": {},
   "source": [
    "### GROUP BY to FIND MULTIPLE OCCURANCE OF A VALUE"
   ]
  },
  {
   "cell_type": "code",
   "execution_count": null,
   "metadata": {
    "scrolled": true
   },
   "outputs": [],
   "source": [
    "# GROUP BY\n",
    "# SELECT Legendary, HP, count(*) FROM pokemonData GROUP BY Legendary, HP;\n",
    "pokemonData.groupby(['Legendary','HP']).size().to_frame(\"Occurance Count\").reset_index()\n",
    "\n",
    "pokemonData.groupby(['Legendary', 'HP']).size().to_frame(\"Occurance Count\")#.reset_index()\n",
    "# a.to_csv('abc.csv')\n",
    "\n",
    "#pokemonData.groupby(['Legendary','HP']).size().to_frame(\"Occurance Count\").reset_index().sort_values(\"HP\", ascending=True)\n",
    "# pokemonData[(pokemonData.HP == 125)&(pokemonData.Legendary == True)][[\"Name\",\"Legendary\",\"HP\"]]"
   ]
  },
  {
   "cell_type": "code",
   "execution_count": null,
   "metadata": {},
   "outputs": [],
   "source": []
  },
  {
   "cell_type": "markdown",
   "metadata": {},
   "source": [
    "### Additional filter on Grouped Data by making use of HAVING"
   ]
  },
  {
   "cell_type": "code",
   "execution_count": null,
   "metadata": {
    "scrolled": true
   },
   "outputs": [],
   "source": [
    "# Select (additional filter on Grouped Data by making use of HAVING)\n",
    "# SELECT HP, count(*) FROM pokemonData GROUP BY HAVING count(*) <3\n",
    "pokemonData.groupby(\"HP\").filter(lambda g:len(g) < 3).groupby(\"HP\").size().to_frame(\"Occurance Count\").reset_index()\n",
    "# pokemonData.groupby(\"HP\").filter(lambda g:len(g) < 3).groupby(\"HP\").size().to_frame(\"Occurance Count\").reset_index()\n",
    "# >>> count_series = data.groupby(['user_id', 'product_id']).size()\n",
    "# >>> new_df = count_series.to_frame(name = 'size').reset_index()\n",
    "\n",
    "# grouped= pokemonData.groupby('Type 1').count()[\"\"]\n",
    "count_series = pokemonData.groupby('Type 1').size()\n",
    "new_df = count_series.to_frame(name = 'size').reset_index()\n",
    "new_df\n",
    "\n",
    "pokemonData.groupby(\"HP\").filter(lambda g:len(g) < 3).groupby(\"Legendary\").size().to_frame(\"Occurance Count\").reset_index()"
   ]
  },
  {
   "cell_type": "code",
   "execution_count": null,
   "metadata": {},
   "outputs": [],
   "source": []
  },
  {
   "cell_type": "markdown",
   "metadata": {},
   "source": [
    "### IN Query (isin)"
   ]
  },
  {
   "cell_type": "code",
   "execution_count": null,
   "metadata": {
    "scrolled": true
   },
   "outputs": [],
   "source": [
    "# SELECT * FROM pokemonData HP IN(20,30,40)\n",
    "\n",
    "pokemonData[pokemonData.HP.isin([20,30,40])]"
   ]
  },
  {
   "cell_type": "code",
   "execution_count": null,
   "metadata": {},
   "outputs": [],
   "source": []
  },
  {
   "cell_type": "markdown",
   "metadata": {},
   "source": [
    "### NOT IN (~)"
   ]
  },
  {
   "cell_type": "code",
   "execution_count": null,
   "metadata": {},
   "outputs": [],
   "source": [
    "# SELECT * FROM pokemonData HP NOT IN(20,30,40)\n",
    "\n",
    "pokemonData[~pokemonData.HP.isin([20,30,40])]"
   ]
  },
  {
   "cell_type": "code",
   "execution_count": null,
   "metadata": {},
   "outputs": [],
   "source": []
  },
  {
   "cell_type": "markdown",
   "metadata": {},
   "source": [
    "### Top `N`  Observations"
   ]
  },
  {
   "cell_type": "code",
   "execution_count": null,
   "metadata": {
    "scrolled": true
   },
   "outputs": [],
   "source": [
    "# SELECT * FROM pokemonData ORDER BY HP DESC LIMIT 10\n",
    "# OCCURANCES\n",
    "pokemonData.nlargest(10, columns=\"Total\").groupby([\"Total\"]).size().to_frame(\"Occurance Count\").reset_index()\n",
    "\n",
    "# TOP 10 Records of Total\n",
    "pokemonData.nlargest(10, columns=\"Total\")"
   ]
  },
  {
   "cell_type": "code",
   "execution_count": null,
   "metadata": {},
   "outputs": [],
   "source": []
  },
  {
   "cell_type": "markdown",
   "metadata": {},
   "source": [
    "### Top `N` Observations with Offset (Top 10 + Next 10 data)"
   ]
  },
  {
   "cell_type": "code",
   "execution_count": null,
   "metadata": {
    "scrolled": true
   },
   "outputs": [],
   "source": [
    "# SELECT * FROM pokemonData ORDER BY HP DESC LIMIT 10 OFFSET 10\n",
    "\n",
    "pokemonData.nlargest(20, columns=\"Total\").tail(10)"
   ]
  },
  {
   "cell_type": "code",
   "execution_count": null,
   "metadata": {},
   "outputs": [],
   "source": []
  },
  {
   "cell_type": "markdown",
   "metadata": {},
   "source": [
    "### UNION ALL & UNION(drop duplicates)"
   ]
  },
  {
   "cell_type": "code",
   "execution_count": null,
   "metadata": {
    "scrolled": true
   },
   "outputs": [],
   "source": [
    "# SELECT * FROM pokemonData WHERE HP > 50 UNION ALL SELECT * FROM sub_pokemonData HP < 45\n",
    "# UNION ALL Contains Duplicates\n",
    "# UNION REMOVE ALL Duplicate ROW\n",
    "\n",
    "# UNION ALL\n",
    "pd.concat([pokemonData[pokemonData.HP > 50], pokemonData[pokemonData.HP < 45]])\n",
    "\n",
    "# UNION\n",
    "pd.concat([pokemonData[pokemonData.HP > 50], pokemonData[pokemonData.HP < 45]]).drop_duplicates()"
   ]
  },
  {
   "cell_type": "code",
   "execution_count": null,
   "metadata": {},
   "outputs": [],
   "source": []
  },
  {
   "cell_type": "markdown",
   "metadata": {},
   "source": [
    "### JOIN (to join two different datasets with column values)"
   ]
  },
  {
   "cell_type": "code",
   "execution_count": null,
   "metadata": {
    "scrolled": true
   },
   "outputs": [],
   "source": [
    "# SELECT * FROM pokemonData p JOIN sub_pokemonData sp ON p.Name=sp.Name WHERE p.Legendary=False\n",
    "# Original\n",
    "pokemonData.merge(\n",
    "        sub_pokemonData[pokemonData.Legendary == False], \n",
    "        left_on=\"Name\",\n",
    "        right_on=\"Name\",\n",
    "        how=\"inner\"\n",
    ")\n",
    "\n",
    "# NON-Original\n",
    "pokemonData.merge(\n",
    "        pokemonData[pokemonData.Legendary == False], \n",
    "        left_on=\"Name\",\n",
    "        right_on=\"Name\",\n",
    "        how=\"inner\"\n",
    ")\n"
   ]
  },
  {
   "cell_type": "code",
   "execution_count": null,
   "metadata": {},
   "outputs": [],
   "source": []
  },
  {
   "cell_type": "markdown",
   "metadata": {},
   "source": [
    "### INSERT"
   ]
  },
  {
   "cell_type": "code",
   "execution_count": null,
   "metadata": {
    "scrolled": true
   },
   "outputs": [],
   "source": [
    "# INSERT INTO pokemonData VALUES(....)\n",
    "# pokemonData=pokemonData.append({\"#\":800, \"Name\":\"Phonixer\", \"Type 1\":\"Water\", \"Type 2\":\"Rock\", \"HP\":\"100\",\"Attack\":\"100\",\"Defense\":\"100\",\n",
    "#                     \"Sp.Atk\":\"100\",\"Sp.Def\":\"90\",\"Speed\":\"80\",\"Generation\":\"11\",\"Legendary\":\"True\",\"Total\":\"810\"})\n",
    "\n",
    "pokemonData[pokemonData.Speed >60]"
   ]
  },
  {
   "cell_type": "code",
   "execution_count": null,
   "metadata": {},
   "outputs": [],
   "source": []
  },
  {
   "cell_type": "markdown",
   "metadata": {},
   "source": [
    "### UPDATE"
   ]
  },
  {
   "cell_type": "code",
   "execution_count": null,
   "metadata": {
    "scrolled": true
   },
   "outputs": [],
   "source": [
    "# UPDATE pokemonData SET Total = 781 WHERE Total = 780 \n",
    "\n",
    "pokemonData.loc[pokemonData['Total'] == 781, 'Total'] = 780\n",
    "\n",
    "# pokemonData[pokemonData.Total == max(pokemonData[\"Total\"])]"
   ]
  },
  {
   "cell_type": "code",
   "execution_count": null,
   "metadata": {
    "scrolled": true
   },
   "outputs": [],
   "source": [
    "pokemonData[pokemonData.Total == max(pokemonData[\"Total\"])]"
   ]
  },
  {
   "cell_type": "code",
   "execution_count": null,
   "metadata": {},
   "outputs": [],
   "source": []
  },
  {
   "cell_type": "markdown",
   "metadata": {},
   "source": [
    "### DELETE"
   ]
  },
  {
   "cell_type": "code",
   "execution_count": null,
   "metadata": {
    "scrolled": true
   },
   "outputs": [],
   "source": [
    "# DELETE FROM pokemonData WHERE Generation = 1\n",
    "#pokemonData = pokemonData.drop(pokemonData[pokemonData.Generation == 1].index)\n",
    "pokemonData[pokemonData.Generation==1]"
   ]
  },
  {
   "cell_type": "code",
   "execution_count": null,
   "metadata": {},
   "outputs": [],
   "source": [
    "for i in pokemonData.index:\n",
    "    print(i)"
   ]
  },
  {
   "cell_type": "code",
   "execution_count": null,
   "metadata": {},
   "outputs": [],
   "source": []
  },
  {
   "cell_type": "markdown",
   "metadata": {},
   "source": [
    "### String Contains Check Similar to SQL LIKE/RegEX"
   ]
  },
  {
   "cell_type": "code",
   "execution_count": null,
   "metadata": {},
   "outputs": [],
   "source": [
    "strdata = pokemonData[pokemonData[\"Name\"].str.contains('char')][\"Name\"]\n",
    "\n",
    "for index, like_data in enumerate(strdata):\n",
    "    print(index, like_data)\n",
    "    \n",
    "\n",
    "#boolean_findings = df['a'].str.contains('diana')\n",
    "#pokemonData\n"
   ]
  },
  {
   "cell_type": "code",
   "execution_count": null,
   "metadata": {},
   "outputs": [],
   "source": [
    "data = {'num_legs': [4, 2, 0, 4, 2, 2],\n",
    "        'num_wings': [0, 2, 0, 0, 2, 2],\n",
    "         'class':['mammal', 'bird', 'fish', 'mammal', None,'mammal']}\n",
    "df = pd.DataFrame(data,\n",
    "                  index=['dog', 'hawk', 'shark', 'cat', 'crow', 'human'])\n",
    "\n",
    "df[df['class'].str.contains('i', na=False)]\n",
    "\n",
    "# Contains with\n",
    "df[df['class'].str.contains('sh|rd', regex=True, na=True)]\n",
    "\n",
    "# StartsWith\n",
    "df[df.index.str.startswith('h', na=False)]\n",
    "\n",
    "# EndsWith\n",
    "df[df.index.str.endswith('k', na=False)]\n",
    "\n",
    "df[df['class'].str.contains('i', na=False)]\n",
    "\n",
    "# df.query('class.str.contains(\"i\")', engine='python')\n",
    "\n",
    "s = pd.Series(['20.03', '11', '23.0', '65', '60', 'a', None])\n",
    "\n",
    "s.str.contains('\\d', regex=True)\n",
    "s.str.contains('\\d.\\d', regex=True)\n",
    "\n",
    "\n",
    "\n",
    "df[df['class'].str.contains('i', na=False)]\n",
    "\n",
    "df[[\"class\"]]"
   ]
  },
  {
   "cell_type": "code",
   "execution_count": null,
   "metadata": {},
   "outputs": [],
   "source": [
    "get_locs = pd.DataFrame()\n",
    "get_locs\n",
    "\n"
   ]
  }
 ],
 "metadata": {
  "kernelspec": {
   "display_name": "Python 3",
   "language": "python",
   "name": "python3"
  },
  "language_info": {
   "codemirror_mode": {
    "name": "ipython",
    "version": 3
   },
   "file_extension": ".py",
   "mimetype": "text/x-python",
   "name": "python",
   "nbconvert_exporter": "python",
   "pygments_lexer": "ipython3",
   "version": "3.8.3"
  }
 },
 "nbformat": 4,
 "nbformat_minor": 2
}
